{
 "cells": [
  {
   "cell_type": "code",
   "execution_count": 23,
   "id": "9849f036",
   "metadata": {},
   "outputs": [],
   "source": [
    "import pandas as pd\n",
    "import numpy as np\n",
    "import seaborn as sns\n",
    "import matplotlib.pyplot as plt\n",
    "from scipy.stats import zscore\n"
   ]
  },
  {
   "cell_type": "markdown",
   "id": "e38cc3ab",
   "metadata": {},
   "source": [
    "Import the dataset"
   ]
  },
  {
   "cell_type": "code",
   "execution_count": 25,
   "id": "1cadd8e2",
   "metadata": {},
   "outputs": [
    {
     "data": {
      "application/vnd.microsoft.datawrangler.viewer.v0+json": {
       "columns": [
        {
         "name": "index",
         "rawType": "int64",
         "type": "integer"
        },
        {
         "name": "Subject",
         "rawType": "int64",
         "type": "integer"
        },
        {
         "name": "Release",
         "rawType": "object",
         "type": "string"
        },
        {
         "name": "Acquisition",
         "rawType": "object",
         "type": "string"
        },
        {
         "name": "Gender",
         "rawType": "object",
         "type": "string"
        },
        {
         "name": "Age",
         "rawType": "object",
         "type": "string"
        },
        {
         "name": "3T_Full_MR_Compl",
         "rawType": "bool",
         "type": "boolean"
        },
        {
         "name": "T1_Count",
         "rawType": "int64",
         "type": "integer"
        },
        {
         "name": "T2_Count",
         "rawType": "int64",
         "type": "integer"
        },
        {
         "name": "3T_RS-fMRI_Count",
         "rawType": "int64",
         "type": "integer"
        },
        {
         "name": "3T_RS-fMRI_PctCompl",
         "rawType": "float64",
         "type": "float"
        },
        {
         "name": "3T_Full_Task_fMRI",
         "rawType": "bool",
         "type": "boolean"
        },
        {
         "name": "3T_tMRI_PctCompl",
         "rawType": "float64",
         "type": "float"
        },
        {
         "name": "fMRI_WM_PctCompl",
         "rawType": "float64",
         "type": "float"
        },
        {
         "name": "fMRI_Gamb_PctCompl",
         "rawType": "float64",
         "type": "float"
        },
        {
         "name": "fMRI_Mot_PctCompl",
         "rawType": "float64",
         "type": "float"
        },
        {
         "name": "fMRI_Lang_PctCompl",
         "rawType": "float64",
         "type": "float"
        },
        {
         "name": "fMRI_Soc_PctCompl",
         "rawType": "float64",
         "type": "float"
        },
        {
         "name": "fMRI_Rel_PctCompl",
         "rawType": "float64",
         "type": "float"
        },
        {
         "name": "fMRI_Emo_PctCompl",
         "rawType": "float64",
         "type": "float"
        },
        {
         "name": "3T_dMRI_Compl",
         "rawType": "bool",
         "type": "boolean"
        },
        {
         "name": "3T_dMRI_PctCompl",
         "rawType": "float64",
         "type": "float"
        },
        {
         "name": "dMRI_3T_ReconVrs",
         "rawType": "object",
         "type": "unknown"
        },
        {
         "name": "fMRI_3T_ReconVrs",
         "rawType": "object",
         "type": "unknown"
        },
        {
         "name": "7T_Full_MR_Compl",
         "rawType": "bool",
         "type": "boolean"
        },
        {
         "name": "7T_RS-fMRI_Count",
         "rawType": "int64",
         "type": "integer"
        },
        {
         "name": "7T_RS-fMRI_PctCompl",
         "rawType": "float64",
         "type": "float"
        },
        {
         "name": "7T_Full_Task_fMRI",
         "rawType": "bool",
         "type": "boolean"
        },
        {
         "name": "7T_tMRI_PctCompl",
         "rawType": "float64",
         "type": "float"
        },
        {
         "name": "fMRI_Movie_Compl",
         "rawType": "bool",
         "type": "boolean"
        },
        {
         "name": "fMRI_Movie_PctCompl",
         "rawType": "float64",
         "type": "float"
        },
        {
         "name": "fMRI_Ret_Compl",
         "rawType": "bool",
         "type": "boolean"
        },
        {
         "name": "fMRI_Ret_PctCompl",
         "rawType": "float64",
         "type": "float"
        },
        {
         "name": "7T_dMRI_Compl",
         "rawType": "bool",
         "type": "boolean"
        },
        {
         "name": "7T_dMRI_PctCompl",
         "rawType": "float64",
         "type": "float"
        },
        {
         "name": "7T_fMRI_Mov_Vrs",
         "rawType": "float64",
         "type": "float"
        },
        {
         "name": "MEG_AnyData",
         "rawType": "bool",
         "type": "boolean"
        },
        {
         "name": "MEG_FullProt_Compl",
         "rawType": "bool",
         "type": "boolean"
        },
        {
         "name": "MEG_HeadModel_Avail",
         "rawType": "bool",
         "type": "boolean"
        },
        {
         "name": "MEG_CortRibn_Avail",
         "rawType": "bool",
         "type": "boolean"
        },
        {
         "name": "MEG_Anatomy_Avail",
         "rawType": "bool",
         "type": "boolean"
        },
        {
         "name": "MEG_Anatomy_Compl",
         "rawType": "bool",
         "type": "boolean"
        },
        {
         "name": "MEG_Noise_Avail",
         "rawType": "bool",
         "type": "boolean"
        },
        {
         "name": "MEG_Noise_Compl",
         "rawType": "bool",
         "type": "boolean"
        },
        {
         "name": "MEG_RS_Avail",
         "rawType": "bool",
         "type": "boolean"
        },
        {
         "name": "MEG_RS_Compl",
         "rawType": "bool",
         "type": "boolean"
        },
        {
         "name": "MEG_WM_Avail",
         "rawType": "bool",
         "type": "boolean"
        },
        {
         "name": "MEG_WM_Compl",
         "rawType": "bool",
         "type": "boolean"
        },
        {
         "name": "MEG_StoryMath_Avail",
         "rawType": "bool",
         "type": "boolean"
        },
        {
         "name": "MEG_StoryMath_Compl",
         "rawType": "bool",
         "type": "boolean"
        },
        {
         "name": "MEG_Motor_Avail",
         "rawType": "bool",
         "type": "boolean"
        },
        {
         "name": "MEG_Motor_Compl",
         "rawType": "bool",
         "type": "boolean"
        },
        {
         "name": "Non-TB_Compl",
         "rawType": "bool",
         "type": "boolean"
        },
        {
         "name": "VisProc_Compl",
         "rawType": "bool",
         "type": "boolean"
        },
        {
         "name": "DelDisc_Compl",
         "rawType": "bool",
         "type": "boolean"
        },
        {
         "name": "SCPT_Compl",
         "rawType": "bool",
         "type": "boolean"
        },
        {
         "name": "IWRD_Compl",
         "rawType": "bool",
         "type": "boolean"
        },
        {
         "name": "PMAT_Compl",
         "rawType": "bool",
         "type": "boolean"
        },
        {
         "name": "VSPLOT_Compl",
         "rawType": "bool",
         "type": "boolean"
        },
        {
         "name": "EmoRecog_Compl",
         "rawType": "bool",
         "type": "boolean"
        },
        {
         "name": "NEO-FFI_Compl",
         "rawType": "bool",
         "type": "boolean"
        },
        {
         "name": "ASR-Syn_Compl",
         "rawType": "bool",
         "type": "boolean"
        },
        {
         "name": "ASR-DSM_Compl",
         "rawType": "bool",
         "type": "boolean"
        },
        {
         "name": "Toolbox_Compl",
         "rawType": "bool",
         "type": "boolean"
        },
        {
         "name": "MMSE_Compl",
         "rawType": "bool",
         "type": "boolean"
        },
        {
         "name": "PSQI_Compl",
         "rawType": "bool",
         "type": "boolean"
        },
        {
         "name": "Alert_Compl",
         "rawType": "bool",
         "type": "boolean"
        },
        {
         "name": "ASQ_Compl",
         "rawType": "bool",
         "type": "boolean"
        },
        {
         "name": "FamPsychNeuro_Compl",
         "rawType": "bool",
         "type": "boolean"
        },
        {
         "name": "SSAGA_Compl",
         "rawType": "bool",
         "type": "boolean"
        },
        {
         "name": "SSAGA_Demo_Compl",
         "rawType": "bool",
         "type": "boolean"
        },
        {
         "name": "SSAGA_Mental_Compl",
         "rawType": "bool",
         "type": "boolean"
        },
        {
         "name": "SSAGA_Alc_Compl",
         "rawType": "bool",
         "type": "boolean"
        },
        {
         "name": "SSAGA_Illicit_Compl",
         "rawType": "bool",
         "type": "boolean"
        },
        {
         "name": "SSAGA_Tob_Compl",
         "rawType": "bool",
         "type": "boolean"
        },
        {
         "name": "SSAGA_Mj_Compl",
         "rawType": "bool",
         "type": "boolean"
        },
        {
         "name": "QC_Issue",
         "rawType": "object",
         "type": "unknown"
        },
        {
         "name": "MRsession_Scanner_3T",
         "rawType": "object",
         "type": "unknown"
        },
        {
         "name": "MRsession_Scans_3T",
         "rawType": "object",
         "type": "unknown"
        },
        {
         "name": "MRsession_Label_3T",
         "rawType": "object",
         "type": "unknown"
        },
        {
         "name": "MRsession_Scanner_7T",
         "rawType": "object",
         "type": "unknown"
        },
        {
         "name": "MRsession_Scans_7T",
         "rawType": "object",
         "type": "unknown"
        },
        {
         "name": "MRsession_Label_7T",
         "rawType": "object",
         "type": "unknown"
        },
        {
         "name": "MEGsession_Scanner",
         "rawType": "object",
         "type": "unknown"
        },
        {
         "name": "MEGsession_Scans",
         "rawType": "object",
         "type": "unknown"
        },
        {
         "name": "MEGsession_Label",
         "rawType": "object",
         "type": "unknown"
        },
        {
         "name": "Alpha_Peak",
         "rawType": "float64",
         "type": "float"
        },
        {
         "name": "Beta_Peak",
         "rawType": "float64",
         "type": "float"
        },
        {
         "name": "MMSE_Score",
         "rawType": "int64",
         "type": "integer"
        },
        {
         "name": "PSQI_Score",
         "rawType": "int64",
         "type": "integer"
        },
        {
         "name": "PSQI_Comp1",
         "rawType": "int64",
         "type": "integer"
        },
        {
         "name": "PSQI_Comp2",
         "rawType": "int64",
         "type": "integer"
        },
        {
         "name": "PSQI_Comp3",
         "rawType": "int64",
         "type": "integer"
        },
        {
         "name": "PSQI_Comp4",
         "rawType": "int64",
         "type": "integer"
        },
        {
         "name": "PSQI_Comp5",
         "rawType": "int64",
         "type": "integer"
        },
        {
         "name": "PSQI_Comp6",
         "rawType": "int64",
         "type": "integer"
        },
        {
         "name": "PSQI_Comp7",
         "rawType": "int64",
         "type": "integer"
        },
        {
         "name": "PSQI_BedTime",
         "rawType": "object",
         "type": "string"
        },
        {
         "name": "PSQI_Min2Asleep",
         "rawType": "int64",
         "type": "integer"
        },
        {
         "name": "PSQI_GetUpTime",
         "rawType": "object",
         "type": "string"
        },
        {
         "name": "PSQI_AmtSleep",
         "rawType": "float64",
         "type": "float"
        },
        {
         "name": "PSQI_Latency30Min",
         "rawType": "int64",
         "type": "integer"
        },
        {
         "name": "PSQI_WakeUp",
         "rawType": "int64",
         "type": "integer"
        },
        {
         "name": "PSQI_Bathroom",
         "rawType": "int64",
         "type": "integer"
        },
        {
         "name": "PSQI_Breathe",
         "rawType": "int64",
         "type": "integer"
        },
        {
         "name": "PSQI_Snore",
         "rawType": "int64",
         "type": "integer"
        },
        {
         "name": "PSQI_TooCold",
         "rawType": "int64",
         "type": "integer"
        },
        {
         "name": "PSQI_TooHot",
         "rawType": "int64",
         "type": "integer"
        },
        {
         "name": "PSQI_BadDream",
         "rawType": "int64",
         "type": "integer"
        },
        {
         "name": "PSQI_Pain",
         "rawType": "int64",
         "type": "integer"
        },
        {
         "name": "PSQI_Other",
         "rawType": "int64",
         "type": "integer"
        },
        {
         "name": "PSQI_Quality",
         "rawType": "int64",
         "type": "integer"
        },
        {
         "name": "PSQI_SleepMeds",
         "rawType": "int64",
         "type": "integer"
        },
        {
         "name": "PSQI_DayStayAwake",
         "rawType": "int64",
         "type": "integer"
        },
        {
         "name": "PSQI_DayEnthusiasm",
         "rawType": "int64",
         "type": "integer"
        },
        {
         "name": "PSQI_BedPtnrRmate",
         "rawType": "float64",
         "type": "float"
        },
        {
         "name": "PicSeq_Unadj",
         "rawType": "float64",
         "type": "float"
        },
        {
         "name": "PicSeq_AgeAdj",
         "rawType": "float64",
         "type": "float"
        },
        {
         "name": "CardSort_Unadj",
         "rawType": "float64",
         "type": "float"
        },
        {
         "name": "CardSort_AgeAdj",
         "rawType": "float64",
         "type": "float"
        },
        {
         "name": "Flanker_Unadj",
         "rawType": "float64",
         "type": "float"
        },
        {
         "name": "Flanker_AgeAdj",
         "rawType": "float64",
         "type": "float"
        },
        {
         "name": "PMAT24_A_CR",
         "rawType": "float64",
         "type": "float"
        },
        {
         "name": "PMAT24_A_SI",
         "rawType": "float64",
         "type": "float"
        },
        {
         "name": "PMAT24_A_RTCR",
         "rawType": "float64",
         "type": "float"
        },
        {
         "name": "ReadEng_Unadj",
         "rawType": "float64",
         "type": "float"
        },
        {
         "name": "ReadEng_AgeAdj",
         "rawType": "float64",
         "type": "float"
        },
        {
         "name": "PicVocab_Unadj",
         "rawType": "float64",
         "type": "float"
        },
        {
         "name": "PicVocab_AgeAdj",
         "rawType": "float64",
         "type": "float"
        },
        {
         "name": "ProcSpeed_Unadj",
         "rawType": "float64",
         "type": "float"
        },
        {
         "name": "ProcSpeed_AgeAdj",
         "rawType": "float64",
         "type": "float"
        },
        {
         "name": "DDisc_SV_1mo_200",
         "rawType": "float64",
         "type": "float"
        },
        {
         "name": "DDisc_SV_6mo_200",
         "rawType": "float64",
         "type": "float"
        },
        {
         "name": "DDisc_SV_1yr_200",
         "rawType": "float64",
         "type": "float"
        },
        {
         "name": "DDisc_SV_3yr_200",
         "rawType": "float64",
         "type": "float"
        },
        {
         "name": "DDisc_SV_5yr_200",
         "rawType": "float64",
         "type": "float"
        },
        {
         "name": "DDisc_SV_10yr_200",
         "rawType": "float64",
         "type": "float"
        },
        {
         "name": "DDisc_SV_1mo_40K",
         "rawType": "float64",
         "type": "float"
        },
        {
         "name": "DDisc_SV_6mo_40K",
         "rawType": "float64",
         "type": "float"
        },
        {
         "name": "DDisc_SV_1yr_40K",
         "rawType": "float64",
         "type": "float"
        },
        {
         "name": "DDisc_SV_3yr_40K",
         "rawType": "float64",
         "type": "float"
        },
        {
         "name": "DDisc_SV_5yr_40K",
         "rawType": "float64",
         "type": "float"
        },
        {
         "name": "DDisc_SV_10yr_40K",
         "rawType": "float64",
         "type": "float"
        },
        {
         "name": "DDisc_AUC_200",
         "rawType": "float64",
         "type": "float"
        },
        {
         "name": "DDisc_AUC_40K",
         "rawType": "float64",
         "type": "float"
        },
        {
         "name": "VSPLOT_TC",
         "rawType": "float64",
         "type": "float"
        },
        {
         "name": "VSPLOT_CRTE",
         "rawType": "float64",
         "type": "float"
        },
        {
         "name": "VSPLOT_OFF",
         "rawType": "float64",
         "type": "float"
        },
        {
         "name": "SCPT_TP",
         "rawType": "float64",
         "type": "float"
        },
        {
         "name": "SCPT_TN",
         "rawType": "float64",
         "type": "float"
        },
        {
         "name": "SCPT_FP",
         "rawType": "float64",
         "type": "float"
        },
        {
         "name": "SCPT_FN",
         "rawType": "float64",
         "type": "float"
        },
        {
         "name": "SCPT_TPRT",
         "rawType": "float64",
         "type": "float"
        },
        {
         "name": "SCPT_SEN",
         "rawType": "float64",
         "type": "float"
        },
        {
         "name": "SCPT_SPEC",
         "rawType": "float64",
         "type": "float"
        },
        {
         "name": "SCPT_LRNR",
         "rawType": "float64",
         "type": "float"
        },
        {
         "name": "IWRD_TOT",
         "rawType": "float64",
         "type": "float"
        },
        {
         "name": "IWRD_RTC",
         "rawType": "float64",
         "type": "float"
        },
        {
         "name": "ListSort_Unadj",
         "rawType": "float64",
         "type": "float"
        },
        {
         "name": "ListSort_AgeAdj",
         "rawType": "float64",
         "type": "float"
        },
        {
         "name": "CogFluidComp_Unadj",
         "rawType": "float64",
         "type": "float"
        },
        {
         "name": "CogFluidComp_AgeAdj",
         "rawType": "float64",
         "type": "float"
        },
        {
         "name": "CogEarlyComp_Unadj",
         "rawType": "float64",
         "type": "float"
        },
        {
         "name": "CogEarlyComp_AgeAdj",
         "rawType": "float64",
         "type": "float"
        },
        {
         "name": "CogTotalComp_Unadj",
         "rawType": "float64",
         "type": "float"
        },
        {
         "name": "CogTotalComp_AgeAdj",
         "rawType": "float64",
         "type": "float"
        },
        {
         "name": "CogCrystalComp_Unadj",
         "rawType": "float64",
         "type": "float"
        },
        {
         "name": "CogCrystalComp_AgeAdj",
         "rawType": "float64",
         "type": "float"
        },
        {
         "name": "ER40_CR",
         "rawType": "float64",
         "type": "float"
        },
        {
         "name": "ER40_CRT",
         "rawType": "float64",
         "type": "float"
        },
        {
         "name": "ER40ANG",
         "rawType": "float64",
         "type": "float"
        },
        {
         "name": "ER40FEAR",
         "rawType": "float64",
         "type": "float"
        },
        {
         "name": "ER40HAP",
         "rawType": "float64",
         "type": "float"
        },
        {
         "name": "ER40NOE",
         "rawType": "float64",
         "type": "float"
        },
        {
         "name": "ER40SAD",
         "rawType": "float64",
         "type": "float"
        },
        {
         "name": "AngAffect_Unadj",
         "rawType": "float64",
         "type": "float"
        },
        {
         "name": "AngHostil_Unadj",
         "rawType": "float64",
         "type": "float"
        },
        {
         "name": "AngAggr_Unadj",
         "rawType": "float64",
         "type": "float"
        },
        {
         "name": "FearAffect_Unadj",
         "rawType": "float64",
         "type": "float"
        },
        {
         "name": "FearSomat_Unadj",
         "rawType": "float64",
         "type": "float"
        },
        {
         "name": "Sadness_Unadj",
         "rawType": "float64",
         "type": "float"
        },
        {
         "name": "LifeSatisf_Unadj",
         "rawType": "float64",
         "type": "float"
        },
        {
         "name": "MeanPurp_Unadj",
         "rawType": "float64",
         "type": "float"
        },
        {
         "name": "PosAffect_Unadj",
         "rawType": "float64",
         "type": "float"
        },
        {
         "name": "Friendship_Unadj",
         "rawType": "float64",
         "type": "float"
        },
        {
         "name": "Loneliness_Unadj",
         "rawType": "float64",
         "type": "float"
        },
        {
         "name": "PercHostil_Unadj",
         "rawType": "float64",
         "type": "float"
        },
        {
         "name": "PercReject_Unadj",
         "rawType": "float64",
         "type": "float"
        },
        {
         "name": "EmotSupp_Unadj",
         "rawType": "float64",
         "type": "float"
        },
        {
         "name": "InstruSupp_Unadj",
         "rawType": "float64",
         "type": "float"
        },
        {
         "name": "PercStress_Unadj",
         "rawType": "float64",
         "type": "float"
        },
        {
         "name": "SelfEff_Unadj",
         "rawType": "float64",
         "type": "float"
        },
        {
         "name": "FS_IntraCranial_Vol",
         "rawType": "float64",
         "type": "float"
        },
        {
         "name": "FS_BrainSeg_Vol",
         "rawType": "float64",
         "type": "float"
        },
        {
         "name": "FS_BrainSeg_Vol_No_Vent",
         "rawType": "float64",
         "type": "float"
        },
        {
         "name": "FS_BrainSeg_Vol_No_Vent_Surf",
         "rawType": "float64",
         "type": "float"
        },
        {
         "name": "FS_LCort_GM_Vol",
         "rawType": "float64",
         "type": "float"
        },
        {
         "name": "FS_RCort_GM_Vol",
         "rawType": "float64",
         "type": "float"
        },
        {
         "name": "FS_TotCort_GM_Vol",
         "rawType": "float64",
         "type": "float"
        },
        {
         "name": "FS_SubCort_GM_Vol",
         "rawType": "float64",
         "type": "float"
        },
        {
         "name": "FS_Total_GM_Vol",
         "rawType": "float64",
         "type": "float"
        },
        {
         "name": "FS_SupraTentorial_Vol",
         "rawType": "float64",
         "type": "float"
        },
        {
         "name": "FS_L_WM_Vol",
         "rawType": "float64",
         "type": "float"
        },
        {
         "name": "FS_R_WM_Vol",
         "rawType": "float64",
         "type": "float"
        },
        {
         "name": "FS_Tot_WM_Vol",
         "rawType": "float64",
         "type": "float"
        },
        {
         "name": "FS_Mask_Vol",
         "rawType": "float64",
         "type": "float"
        },
        {
         "name": "FS_BrainSegVol_eTIV_Ratio",
         "rawType": "float64",
         "type": "float"
        },
        {
         "name": "FS_MaskVol_eTIV_Ratio",
         "rawType": "float64",
         "type": "float"
        },
        {
         "name": "FS_LH_Defect_Holes",
         "rawType": "float64",
         "type": "float"
        },
        {
         "name": "FS_RH_Defect_Holes",
         "rawType": "float64",
         "type": "float"
        },
        {
         "name": "FS_Total_Defect_Holes",
         "rawType": "float64",
         "type": "float"
        },
        {
         "name": "FS_L_LatVent_Vol",
         "rawType": "float64",
         "type": "float"
        },
        {
         "name": "FS_L_InfLatVent_Vol",
         "rawType": "float64",
         "type": "float"
        },
        {
         "name": "FS_L_Cerebellum_WM_Vol",
         "rawType": "float64",
         "type": "float"
        },
        {
         "name": "FS_L_Cerebellum_Cort_Vol",
         "rawType": "float64",
         "type": "float"
        },
        {
         "name": "FS_L_ThalamusProper_Vol",
         "rawType": "float64",
         "type": "float"
        },
        {
         "name": "FS_L_Caudate_Vol",
         "rawType": "float64",
         "type": "float"
        },
        {
         "name": "FS_L_Putamen_Vol",
         "rawType": "float64",
         "type": "float"
        },
        {
         "name": "FS_L_Pallidum_Vol",
         "rawType": "float64",
         "type": "float"
        },
        {
         "name": "FS_3rdVent_Vol",
         "rawType": "float64",
         "type": "float"
        },
        {
         "name": "FS_4thVent_Vol",
         "rawType": "float64",
         "type": "float"
        },
        {
         "name": "FS_BrainStem_Vol",
         "rawType": "float64",
         "type": "float"
        },
        {
         "name": "FS_L_Hippo_Vol",
         "rawType": "float64",
         "type": "float"
        },
        {
         "name": "FS_L_Amygdala_Vol",
         "rawType": "float64",
         "type": "float"
        },
        {
         "name": "FS_CSF_Vol",
         "rawType": "float64",
         "type": "float"
        },
        {
         "name": "FS_L_AccumbensArea_Vol",
         "rawType": "float64",
         "type": "float"
        },
        {
         "name": "FS_L_VentDC_Vol",
         "rawType": "float64",
         "type": "float"
        },
        {
         "name": "FS_L_Vessel_Vol",
         "rawType": "float64",
         "type": "float"
        },
        {
         "name": "FS_L_ChoroidPlexus_Vol",
         "rawType": "float64",
         "type": "float"
        },
        {
         "name": "FS_R_LatVent_Vol",
         "rawType": "float64",
         "type": "float"
        },
        {
         "name": "FS_R_InfLatVent_Vol",
         "rawType": "float64",
         "type": "float"
        },
        {
         "name": "FS_R_Cerebellum_WM_Vol",
         "rawType": "float64",
         "type": "float"
        },
        {
         "name": "FS_R_Cerebellum_Cort_Vol",
         "rawType": "float64",
         "type": "float"
        },
        {
         "name": "FS_R_ThalamusProper_Vol",
         "rawType": "float64",
         "type": "float"
        },
        {
         "name": "FS_R_Caudate_Vol",
         "rawType": "float64",
         "type": "float"
        },
        {
         "name": "FS_R_Putamen_Vol",
         "rawType": "float64",
         "type": "float"
        },
        {
         "name": "FS_R_Pallidum_Vol",
         "rawType": "float64",
         "type": "float"
        },
        {
         "name": "FS_R_Hippo_Vol",
         "rawType": "float64",
         "type": "float"
        },
        {
         "name": "FS_R_Amygdala_Vol",
         "rawType": "float64",
         "type": "float"
        },
        {
         "name": "FS_R_AccumbensArea_Vol",
         "rawType": "float64",
         "type": "float"
        },
        {
         "name": "FS_R_VentDC_Vol",
         "rawType": "float64",
         "type": "float"
        },
        {
         "name": "FS_R_Vessel_Vol",
         "rawType": "float64",
         "type": "float"
        },
        {
         "name": "FS_R_ChoroidPlexus_Vol",
         "rawType": "float64",
         "type": "float"
        },
        {
         "name": "FS_5thVent_Vol",
         "rawType": "float64",
         "type": "float"
        },
        {
         "name": "FS_WM_Hypointens_Vol",
         "rawType": "float64",
         "type": "float"
        },
        {
         "name": "FS_L_WM_Hypointens_Vol",
         "rawType": "float64",
         "type": "float"
        },
        {
         "name": "FS_R_WM_Hypointens_Vol",
         "rawType": "float64",
         "type": "float"
        },
        {
         "name": "FS_L_Non-WM_Hypointens_Vol",
         "rawType": "float64",
         "type": "float"
        },
        {
         "name": "FS_R_Non-WM_Hypointens_Vol",
         "rawType": "float64",
         "type": "float"
        },
        {
         "name": "FS_OpticChiasm_Vol",
         "rawType": "float64",
         "type": "float"
        },
        {
         "name": "FS_CC_Posterior_Vol",
         "rawType": "float64",
         "type": "float"
        },
        {
         "name": "FS_CC_MidPosterior_Vol",
         "rawType": "float64",
         "type": "float"
        },
        {
         "name": "FS_CC_Central_Vol",
         "rawType": "float64",
         "type": "float"
        },
        {
         "name": "FS_CC_MidAnterior_Vol",
         "rawType": "float64",
         "type": "float"
        },
        {
         "name": "FS_CC_Anterior_Vol",
         "rawType": "float64",
         "type": "float"
        },
        {
         "name": "FS_L_Bankssts_Thck",
         "rawType": "float64",
         "type": "float"
        },
        {
         "name": "FS_L_Caudalanteriorcingulate_Thck",
         "rawType": "float64",
         "type": "float"
        },
        {
         "name": "FS_L_Caudalmiddlefrontal_Thck",
         "rawType": "float64",
         "type": "float"
        },
        {
         "name": "FS_L_Cuneus_Thck",
         "rawType": "float64",
         "type": "float"
        },
        {
         "name": "FS_L_Entorhinal_Thck",
         "rawType": "float64",
         "type": "float"
        },
        {
         "name": "FS_L_Fusiform_Thck",
         "rawType": "float64",
         "type": "float"
        },
        {
         "name": "FS_L_Inferiorparietal_Thck",
         "rawType": "float64",
         "type": "float"
        },
        {
         "name": "FS_L_Inferiortemporal_Thck",
         "rawType": "float64",
         "type": "float"
        },
        {
         "name": "FS_L_Isthmuscingulate_Thck",
         "rawType": "float64",
         "type": "float"
        },
        {
         "name": "FS_L_Lateraloccipital_Thck",
         "rawType": "float64",
         "type": "float"
        },
        {
         "name": "FS_L_Lateralorbitofrontal_Thck",
         "rawType": "float64",
         "type": "float"
        },
        {
         "name": "FS_L_Lingual_Thck",
         "rawType": "float64",
         "type": "float"
        },
        {
         "name": "FS_L_Medialorbitofrontal_Thck",
         "rawType": "float64",
         "type": "float"
        },
        {
         "name": "FS_L_Middletemporal_Thck",
         "rawType": "float64",
         "type": "float"
        },
        {
         "name": "FS_L_Parahippocampal_Thck",
         "rawType": "float64",
         "type": "float"
        },
        {
         "name": "FS_L_Paracentral_Thck",
         "rawType": "float64",
         "type": "float"
        },
        {
         "name": "FS_L_Parsopercularis_Thck",
         "rawType": "float64",
         "type": "float"
        },
        {
         "name": "FS_L_Parsorbitalis_Thck",
         "rawType": "float64",
         "type": "float"
        },
        {
         "name": "FS_L_Parstriangularis_Thck",
         "rawType": "float64",
         "type": "float"
        },
        {
         "name": "FS_L_Pericalcarine_Thck",
         "rawType": "float64",
         "type": "float"
        },
        {
         "name": "FS_L_Postcentral_Thck",
         "rawType": "float64",
         "type": "float"
        },
        {
         "name": "FS_L_Posteriorcingulate_Thck",
         "rawType": "float64",
         "type": "float"
        },
        {
         "name": "FS_L_Precentral_Thck",
         "rawType": "float64",
         "type": "float"
        },
        {
         "name": "FS_L_Precuneus_Thck",
         "rawType": "float64",
         "type": "float"
        },
        {
         "name": "FS_L_Rostralanteriorcingulate_Thck",
         "rawType": "float64",
         "type": "float"
        },
        {
         "name": "FS_L_Rostralmiddlefrontal_Thck",
         "rawType": "float64",
         "type": "float"
        },
        {
         "name": "FS_L_Superiorfrontal_Thck",
         "rawType": "float64",
         "type": "float"
        },
        {
         "name": "FS_L_Superiorparietal_Thck",
         "rawType": "float64",
         "type": "float"
        },
        {
         "name": "FS_L_Superiortemporal_Thck",
         "rawType": "float64",
         "type": "float"
        },
        {
         "name": "FS_L_Supramarginal_Thck",
         "rawType": "float64",
         "type": "float"
        },
        {
         "name": "FS_L_Frontalpole_Thck",
         "rawType": "float64",
         "type": "float"
        },
        {
         "name": "FS_L_Temporalpole_Thck",
         "rawType": "float64",
         "type": "float"
        },
        {
         "name": "FS_L_Transversetemporal_Thck",
         "rawType": "float64",
         "type": "float"
        },
        {
         "name": "FS_L_Insula_Thck",
         "rawType": "float64",
         "type": "float"
        },
        {
         "name": "FS_R_Bankssts_Thck",
         "rawType": "float64",
         "type": "float"
        },
        {
         "name": "FS_R_Caudalanteriorcingulate_Thck",
         "rawType": "float64",
         "type": "float"
        },
        {
         "name": "FS_R_Caudalmiddlefrontal_Thck",
         "rawType": "float64",
         "type": "float"
        },
        {
         "name": "FS_R_Cuneus_Thck",
         "rawType": "float64",
         "type": "float"
        },
        {
         "name": "FS_R_Entorhinal_Thck",
         "rawType": "float64",
         "type": "float"
        },
        {
         "name": "FS_R_Fusiform_Thck",
         "rawType": "float64",
         "type": "float"
        },
        {
         "name": "FS_R_Inferiorparietal_Thck",
         "rawType": "float64",
         "type": "float"
        },
        {
         "name": "FS_R_Inferiortemporal_Thck",
         "rawType": "float64",
         "type": "float"
        },
        {
         "name": "FS_R_Isthmuscingulate_Thck",
         "rawType": "float64",
         "type": "float"
        },
        {
         "name": "FS_R_Lateraloccipital_Thck",
         "rawType": "float64",
         "type": "float"
        },
        {
         "name": "FS_R_Lateralorbitofrontal_Thck",
         "rawType": "float64",
         "type": "float"
        },
        {
         "name": "FS_R_Lingual_Thck",
         "rawType": "float64",
         "type": "float"
        },
        {
         "name": "FS_R_Medialorbitofrontal_Thck",
         "rawType": "float64",
         "type": "float"
        },
        {
         "name": "FS_R_Middletemporal_Thck",
         "rawType": "float64",
         "type": "float"
        },
        {
         "name": "FS_R_Parahippocampal_Thck",
         "rawType": "float64",
         "type": "float"
        },
        {
         "name": "FS_R_Paracentral_Thck",
         "rawType": "float64",
         "type": "float"
        },
        {
         "name": "FS_R_Parsopercularis_Thck",
         "rawType": "float64",
         "type": "float"
        },
        {
         "name": "FS_R_Parsorbitalis_Thck",
         "rawType": "float64",
         "type": "float"
        },
        {
         "name": "FS_R_Parstriangularis_Thck",
         "rawType": "float64",
         "type": "float"
        },
        {
         "name": "FS_R_Pericalcarine_Thck",
         "rawType": "float64",
         "type": "float"
        },
        {
         "name": "FS_R_Postcentral_Thck",
         "rawType": "float64",
         "type": "float"
        },
        {
         "name": "FS_R_Posteriorcingulate_Thck",
         "rawType": "float64",
         "type": "float"
        },
        {
         "name": "FS_R_Precentral_Thck",
         "rawType": "float64",
         "type": "float"
        },
        {
         "name": "FS_R_Precuneus_Thck",
         "rawType": "float64",
         "type": "float"
        },
        {
         "name": "FS_R_Rostralanteriorcingulate_Thck",
         "rawType": "float64",
         "type": "float"
        },
        {
         "name": "FS_R_Rostralmiddlefrontal_Thck",
         "rawType": "float64",
         "type": "float"
        },
        {
         "name": "FS_R_Superiorfrontal_Thck",
         "rawType": "float64",
         "type": "float"
        },
        {
         "name": "FS_R_Superiorparietal_Thck",
         "rawType": "float64",
         "type": "float"
        },
        {
         "name": "FS_R_Superiortemporal_Thck",
         "rawType": "float64",
         "type": "float"
        },
        {
         "name": "FS_R_Supramarginal_Thck",
         "rawType": "float64",
         "type": "float"
        },
        {
         "name": "FS_R_Frontalpole_Thck",
         "rawType": "float64",
         "type": "float"
        },
        {
         "name": "FS_R_Temporalpole_Thck",
         "rawType": "float64",
         "type": "float"
        },
        {
         "name": "FS_R_Transversetemporal_Thck",
         "rawType": "float64",
         "type": "float"
        },
        {
         "name": "FS_R_Insula_Thck",
         "rawType": "float64",
         "type": "float"
        },
        {
         "name": "FS_L_Bankssts_Area",
         "rawType": "float64",
         "type": "float"
        },
        {
         "name": "FS_L_Caudalanteriorcingulate_Area",
         "rawType": "float64",
         "type": "float"
        },
        {
         "name": "FS_L_Caudalmiddlefrontal_Area",
         "rawType": "float64",
         "type": "float"
        },
        {
         "name": "FS_L_Cuneus_Area",
         "rawType": "float64",
         "type": "float"
        },
        {
         "name": "FS_L_Entorhinal_Area",
         "rawType": "float64",
         "type": "float"
        },
        {
         "name": "FS_L_Fusiform_Area",
         "rawType": "float64",
         "type": "float"
        },
        {
         "name": "FS_L_Inferiorparietal_Area",
         "rawType": "float64",
         "type": "float"
        },
        {
         "name": "FS_L_Inferiortemporal_Area",
         "rawType": "float64",
         "type": "float"
        },
        {
         "name": "FS_L_Isthmuscingulate_Area",
         "rawType": "float64",
         "type": "float"
        },
        {
         "name": "FS_L_Lateraloccipital_Area",
         "rawType": "float64",
         "type": "float"
        },
        {
         "name": "FS_L_Lateralorbitofrontal_Area",
         "rawType": "float64",
         "type": "float"
        },
        {
         "name": "FS_L_Lingual_Area",
         "rawType": "float64",
         "type": "float"
        },
        {
         "name": "FS_L_Medialorbitofrontal_Area",
         "rawType": "float64",
         "type": "float"
        },
        {
         "name": "FS_L_Middletemporal_Area",
         "rawType": "float64",
         "type": "float"
        },
        {
         "name": "FS_L_Parahippocampal_Area",
         "rawType": "float64",
         "type": "float"
        },
        {
         "name": "FS_L_Paracentral_Area",
         "rawType": "float64",
         "type": "float"
        },
        {
         "name": "FS_L_Parsopercularis_Area",
         "rawType": "float64",
         "type": "float"
        },
        {
         "name": "FS_L_Parsorbitalis_Area",
         "rawType": "float64",
         "type": "float"
        },
        {
         "name": "FS_L_Parstriangularis_Area",
         "rawType": "float64",
         "type": "float"
        },
        {
         "name": "FS_L_Pericalcarine_Area",
         "rawType": "float64",
         "type": "float"
        },
        {
         "name": "FS_L_Postcentral_Area",
         "rawType": "float64",
         "type": "float"
        },
        {
         "name": "FS_L_Posteriorcingulate_Area",
         "rawType": "float64",
         "type": "float"
        },
        {
         "name": "FS_L_Precentral_Area",
         "rawType": "float64",
         "type": "float"
        },
        {
         "name": "FS_L_Precuneus_Area",
         "rawType": "float64",
         "type": "float"
        },
        {
         "name": "FS_L_Rostralanteriorcingulate_Area",
         "rawType": "float64",
         "type": "float"
        },
        {
         "name": "FS_L_Rostralmiddlefrontal_Area",
         "rawType": "float64",
         "type": "float"
        },
        {
         "name": "FS_L_Superiorfrontal_Area",
         "rawType": "float64",
         "type": "float"
        },
        {
         "name": "FS_L_Superiorparietal_Area",
         "rawType": "float64",
         "type": "float"
        },
        {
         "name": "FS_L_Superiortemporal_Area",
         "rawType": "float64",
         "type": "float"
        },
        {
         "name": "FS_L_Supramarginal_Area",
         "rawType": "float64",
         "type": "float"
        },
        {
         "name": "FS_L_Frontalpole_Area",
         "rawType": "float64",
         "type": "float"
        },
        {
         "name": "FS_L_Temporalpole_Area",
         "rawType": "float64",
         "type": "float"
        },
        {
         "name": "FS_L_Transversetemporal_Area",
         "rawType": "float64",
         "type": "float"
        },
        {
         "name": "FS_L_Insula_Area",
         "rawType": "float64",
         "type": "float"
        },
        {
         "name": "FS_R_Bankssts_Area",
         "rawType": "float64",
         "type": "float"
        },
        {
         "name": "FS_R_Caudalanteriorcingulate_Area",
         "rawType": "float64",
         "type": "float"
        },
        {
         "name": "FS_R_Caudalmiddlefrontal_Area",
         "rawType": "float64",
         "type": "float"
        },
        {
         "name": "FS_R_Cuneus_Area",
         "rawType": "float64",
         "type": "float"
        },
        {
         "name": "FS_R_Entorhinal_Area",
         "rawType": "float64",
         "type": "float"
        },
        {
         "name": "FS_R_Fusiform_Area",
         "rawType": "float64",
         "type": "float"
        },
        {
         "name": "FS_R_Inferiorparietal_Area",
         "rawType": "float64",
         "type": "float"
        },
        {
         "name": "FS_R_Inferiortemporal_Area",
         "rawType": "float64",
         "type": "float"
        },
        {
         "name": "FS_R_Isthmuscingulate_Area",
         "rawType": "float64",
         "type": "float"
        },
        {
         "name": "FS_R_Lateraloccipital_Area",
         "rawType": "float64",
         "type": "float"
        },
        {
         "name": "FS_R_Lateralorbitofrontal_Area",
         "rawType": "float64",
         "type": "float"
        },
        {
         "name": "FS_R_Lingual_Area",
         "rawType": "float64",
         "type": "float"
        },
        {
         "name": "FS_R_Medialorbitofrontal_Area",
         "rawType": "float64",
         "type": "float"
        },
        {
         "name": "FS_R_Middletemporal_Area",
         "rawType": "float64",
         "type": "float"
        },
        {
         "name": "FS_R_Parahippocampal_Area",
         "rawType": "float64",
         "type": "float"
        },
        {
         "name": "FS_R_Paracentral_Area",
         "rawType": "float64",
         "type": "float"
        },
        {
         "name": "FS_R_Parsopercularis_Area",
         "rawType": "float64",
         "type": "float"
        },
        {
         "name": "FS_R_Parsorbitalis_Area",
         "rawType": "float64",
         "type": "float"
        },
        {
         "name": "FS_R_Parstriangularis_Area",
         "rawType": "float64",
         "type": "float"
        },
        {
         "name": "FS_R_Pericalcarine_Area",
         "rawType": "float64",
         "type": "float"
        },
        {
         "name": "FS_R_Postcentral_Area",
         "rawType": "float64",
         "type": "float"
        },
        {
         "name": "FS_R_Posteriorcingulate_Area",
         "rawType": "float64",
         "type": "float"
        },
        {
         "name": "FS_R_Precentral_Area",
         "rawType": "float64",
         "type": "float"
        },
        {
         "name": "FS_R_Precuneus_Area",
         "rawType": "float64",
         "type": "float"
        },
        {
         "name": "FS_R_Rostralanteriorcingulate_Area",
         "rawType": "float64",
         "type": "float"
        },
        {
         "name": "FS_R_Rostralmiddlefrontal_Area",
         "rawType": "float64",
         "type": "float"
        },
        {
         "name": "FS_R_Superiorfrontal_Area",
         "rawType": "float64",
         "type": "float"
        },
        {
         "name": "FS_R_Superiorparietal_Area",
         "rawType": "float64",
         "type": "float"
        },
        {
         "name": "FS_R_Superiortemporal_Area",
         "rawType": "float64",
         "type": "float"
        },
        {
         "name": "FS_R_Supramarginal_Area",
         "rawType": "float64",
         "type": "float"
        },
        {
         "name": "FS_R_Frontalpole_Area",
         "rawType": "float64",
         "type": "float"
        },
        {
         "name": "FS_R_Temporalpole_Area",
         "rawType": "float64",
         "type": "float"
        },
        {
         "name": "FS_R_Transversetemporal_Area",
         "rawType": "float64",
         "type": "float"
        },
        {
         "name": "FS_R_Insula_Area",
         "rawType": "float64",
         "type": "float"
        },
        {
         "name": "Emotion_Task_Acc",
         "rawType": "float64",
         "type": "float"
        },
        {
         "name": "Emotion_Task_Median_RT",
         "rawType": "float64",
         "type": "float"
        },
        {
         "name": "Emotion_Task_Face_Acc",
         "rawType": "float64",
         "type": "float"
        },
        {
         "name": "Emotion_Task_Face_Median_RT",
         "rawType": "float64",
         "type": "float"
        },
        {
         "name": "Emotion_Task_Shape_Acc",
         "rawType": "float64",
         "type": "float"
        },
        {
         "name": "Emotion_Task_Shape_Median_RT",
         "rawType": "float64",
         "type": "float"
        },
        {
         "name": "Gambling_Task_Perc_Larger",
         "rawType": "float64",
         "type": "float"
        },
        {
         "name": "Gambling_Task_Perc_Smaller",
         "rawType": "float64",
         "type": "float"
        },
        {
         "name": "Gambling_Task_Perc_NLR",
         "rawType": "float64",
         "type": "float"
        },
        {
         "name": "Gambling_Task_Median_RT_Larger",
         "rawType": "float64",
         "type": "float"
        },
        {
         "name": "Gambling_Task_Median_RT_Smaller",
         "rawType": "float64",
         "type": "float"
        },
        {
         "name": "Gambling_Task_Reward_Perc_Larger",
         "rawType": "float64",
         "type": "float"
        },
        {
         "name": "Gambling_Task_Reward_Median_RT_Larger",
         "rawType": "float64",
         "type": "float"
        },
        {
         "name": "Gambling_Task_Reward_Perc_Smaller",
         "rawType": "float64",
         "type": "float"
        },
        {
         "name": "Gambling_Task_Reward_Median_RT_Smaller",
         "rawType": "float64",
         "type": "float"
        },
        {
         "name": "Gambling_Task_Reward_Perc_NLR",
         "rawType": "float64",
         "type": "float"
        },
        {
         "name": "Gambling_Task_Punish_Perc_Larger",
         "rawType": "float64",
         "type": "float"
        },
        {
         "name": "Gambling_Task_Punish_Median_RT_Larger",
         "rawType": "float64",
         "type": "float"
        },
        {
         "name": "Gambling_Task_Punish_Perc_Smaller",
         "rawType": "float64",
         "type": "float"
        },
        {
         "name": "Gambling_Task_Punish_Median_RT_Smaller",
         "rawType": "float64",
         "type": "float"
        },
        {
         "name": "Gambling_Task_Punish_Perc_NLR",
         "rawType": "float64",
         "type": "float"
        },
        {
         "name": "Language_Task_Acc",
         "rawType": "float64",
         "type": "float"
        },
        {
         "name": "Language_Task_Median_RT",
         "rawType": "float64",
         "type": "float"
        },
        {
         "name": "Language_Task_Story_Acc",
         "rawType": "float64",
         "type": "float"
        },
        {
         "name": "Language_Task_Story_Median_RT",
         "rawType": "float64",
         "type": "float"
        },
        {
         "name": "Language_Task_Story_Avg_Difficulty_Level",
         "rawType": "float64",
         "type": "float"
        },
        {
         "name": "Language_Task_Math_Acc",
         "rawType": "float64",
         "type": "float"
        },
        {
         "name": "Language_Task_Math_Median_RT",
         "rawType": "float64",
         "type": "float"
        },
        {
         "name": "Language_Task_Math_Avg_Difficulty_Level",
         "rawType": "float64",
         "type": "float"
        },
        {
         "name": "Relational_Task_Acc",
         "rawType": "float64",
         "type": "float"
        },
        {
         "name": "Relational_Task_Median_RT",
         "rawType": "float64",
         "type": "float"
        },
        {
         "name": "Relational_Task_Match_Acc",
         "rawType": "float64",
         "type": "float"
        },
        {
         "name": "Relational_Task_Match_Median_RT",
         "rawType": "float64",
         "type": "float"
        },
        {
         "name": "Relational_Task_Rel_Acc",
         "rawType": "float64",
         "type": "float"
        },
        {
         "name": "Relational_Task_Rel_Median_RT",
         "rawType": "float64",
         "type": "float"
        },
        {
         "name": "Social_Task_Perc_Random",
         "rawType": "float64",
         "type": "float"
        },
        {
         "name": "Social_Task_Perc_TOM",
         "rawType": "float64",
         "type": "float"
        },
        {
         "name": "Social_Task_Perc_Unsure",
         "rawType": "float64",
         "type": "float"
        },
        {
         "name": "Social_Task_Perc_NLR",
         "rawType": "float64",
         "type": "float"
        },
        {
         "name": "Social_Task_Median_RT_Random",
         "rawType": "float64",
         "type": "float"
        },
        {
         "name": "Social_Task_Median_RT_TOM",
         "rawType": "float64",
         "type": "float"
        },
        {
         "name": "Social_Task_Median_RT_Unsure",
         "rawType": "float64",
         "type": "float"
        },
        {
         "name": "Social_Task_Random_Perc_Random",
         "rawType": "float64",
         "type": "float"
        },
        {
         "name": "Social_Task_Random_Median_RT_Random",
         "rawType": "float64",
         "type": "float"
        },
        {
         "name": "Social_Task_Random_Perc_TOM",
         "rawType": "float64",
         "type": "float"
        },
        {
         "name": "Social_Task_Random_Median_RT_TOM",
         "rawType": "float64",
         "type": "float"
        },
        {
         "name": "Social_Task_Random_Perc_Unsure",
         "rawType": "float64",
         "type": "float"
        },
        {
         "name": "Social_Task_Random_Median_RT_Unsure",
         "rawType": "float64",
         "type": "float"
        },
        {
         "name": "Social_Task_Random_Perc_NLR",
         "rawType": "float64",
         "type": "float"
        },
        {
         "name": "Social_Task_TOM_Perc_Random",
         "rawType": "float64",
         "type": "float"
        },
        {
         "name": "Social_Task_TOM_Median_RT_Random",
         "rawType": "float64",
         "type": "float"
        },
        {
         "name": "Social_Task_TOM_Perc_TOM",
         "rawType": "float64",
         "type": "float"
        },
        {
         "name": "Social_Task_TOM_Median_RT_TOM",
         "rawType": "float64",
         "type": "float"
        },
        {
         "name": "Social_Task_TOM_Perc_Unsure",
         "rawType": "float64",
         "type": "float"
        },
        {
         "name": "Social_Task_TOM_Median_RT_Unsure",
         "rawType": "float64",
         "type": "float"
        },
        {
         "name": "Social_Task_TOM_Perc_NLR",
         "rawType": "float64",
         "type": "float"
        },
        {
         "name": "WM_Task_Acc",
         "rawType": "float64",
         "type": "float"
        },
        {
         "name": "WM_Task_Median_RT",
         "rawType": "float64",
         "type": "float"
        },
        {
         "name": "WM_Task_2bk_Acc",
         "rawType": "float64",
         "type": "float"
        },
        {
         "name": "WM_Task_2bk_Median_RT",
         "rawType": "float64",
         "type": "float"
        },
        {
         "name": "WM_Task_0bk_Acc",
         "rawType": "float64",
         "type": "float"
        },
        {
         "name": "WM_Task_0bk_Median_RT",
         "rawType": "float64",
         "type": "float"
        },
        {
         "name": "WM_Task_0bk_Body_Acc",
         "rawType": "float64",
         "type": "float"
        },
        {
         "name": "WM_Task_0bk_Body_Acc_Target",
         "rawType": "float64",
         "type": "float"
        },
        {
         "name": "WM_Task_0bk_Body_Acc_Nontarget",
         "rawType": "float64",
         "type": "float"
        },
        {
         "name": "WM_Task_0bk_Face_Acc",
         "rawType": "float64",
         "type": "float"
        },
        {
         "name": "WM_Task_0bk_Face_Acc_Target",
         "rawType": "float64",
         "type": "float"
        },
        {
         "name": "WM_Task_0bk_Face_ACC_Nontarget",
         "rawType": "float64",
         "type": "float"
        },
        {
         "name": "WM_Task_0bk_Place_Acc",
         "rawType": "float64",
         "type": "float"
        },
        {
         "name": "WM_Task_0bk_Place_Acc_Target",
         "rawType": "float64",
         "type": "float"
        },
        {
         "name": "WM_Task_0bk_Place_Acc_Nontarget",
         "rawType": "float64",
         "type": "float"
        },
        {
         "name": "WM_Task_0bk_Tool_Acc",
         "rawType": "float64",
         "type": "float"
        },
        {
         "name": "WM_Task_0bk_Tool_Acc_Target",
         "rawType": "float64",
         "type": "float"
        },
        {
         "name": "WM_Task_0bk_Tool_Acc_Nontarget",
         "rawType": "float64",
         "type": "float"
        },
        {
         "name": "WM_Task_2bk_Body_Acc",
         "rawType": "float64",
         "type": "float"
        },
        {
         "name": "WM_Task_2bk_Body_Acc_Target",
         "rawType": "float64",
         "type": "float"
        },
        {
         "name": "WM_Task_2bk_Body_Acc_Nontarget",
         "rawType": "float64",
         "type": "float"
        },
        {
         "name": "WM_Task_2bk_Face_Acc",
         "rawType": "float64",
         "type": "float"
        },
        {
         "name": "WM_Task_2bk_Face_Acc_Target",
         "rawType": "float64",
         "type": "float"
        },
        {
         "name": "WM_Task_2bk_Face_Acc_Nontarget",
         "rawType": "float64",
         "type": "float"
        },
        {
         "name": "WM_Task_2bk_Place_Acc",
         "rawType": "float64",
         "type": "float"
        },
        {
         "name": "WM_Task_2bk_Place_Acc_Target",
         "rawType": "float64",
         "type": "float"
        },
        {
         "name": "WM_Task_2bk_Place_Acc_Nontarget",
         "rawType": "float64",
         "type": "float"
        },
        {
         "name": "WM_Task_2bk_Tool_Acc",
         "rawType": "float64",
         "type": "float"
        },
        {
         "name": "WM_Task_2bk_Tool_Acc_Target",
         "rawType": "float64",
         "type": "float"
        },
        {
         "name": "WM_Task_2bk_Tool_Acc_Nontarget",
         "rawType": "float64",
         "type": "float"
        },
        {
         "name": "WM_Task_0bk_Body_Median_RT",
         "rawType": "float64",
         "type": "float"
        },
        {
         "name": "WM_Task_0bk_Body_Median_RT_Target",
         "rawType": "float64",
         "type": "float"
        },
        {
         "name": "WM_Task_0bk_Body_Median_RT_Nontarget",
         "rawType": "float64",
         "type": "float"
        },
        {
         "name": "WM_Task_0bk_Face_Median_RT",
         "rawType": "float64",
         "type": "float"
        },
        {
         "name": "WM_Task_0bk_Face_Median_RT_Target",
         "rawType": "float64",
         "type": "float"
        },
        {
         "name": "WM_Task_0bk_Face_Median_RT_Nontarget",
         "rawType": "float64",
         "type": "float"
        },
        {
         "name": "WM_Task_0bk_Place_Median_RT",
         "rawType": "float64",
         "type": "float"
        },
        {
         "name": "WM_Task_0bk_Place_Median_RT_Target",
         "rawType": "float64",
         "type": "float"
        },
        {
         "name": "WM_Task_0bk_Place_Median_RT_Nontarget",
         "rawType": "float64",
         "type": "float"
        },
        {
         "name": "WM_Task_0bk_Tool_Median_RT",
         "rawType": "float64",
         "type": "float"
        },
        {
         "name": "WM_Task_0bk_Tool_Median_RT_Target",
         "rawType": "float64",
         "type": "float"
        },
        {
         "name": "WM_Task_0bk_Tool_Median_RT_Nontarget",
         "rawType": "float64",
         "type": "float"
        },
        {
         "name": "WM_Task_2bk_Body_Median_RT",
         "rawType": "float64",
         "type": "float"
        },
        {
         "name": "WM_Task_2bk_Body_Median_RT_Target",
         "rawType": "float64",
         "type": "float"
        },
        {
         "name": "WM_Task_2bk_Body_Median_RT_Nontarget",
         "rawType": "float64",
         "type": "float"
        },
        {
         "name": "WM_Task_2bk_Face_Median_RT",
         "rawType": "float64",
         "type": "float"
        },
        {
         "name": "WM_Task_2bk_Face_Median_RT_Target",
         "rawType": "float64",
         "type": "float"
        },
        {
         "name": "WM_Task_2bk_Face_Median_RT_Nontarget",
         "rawType": "float64",
         "type": "float"
        },
        {
         "name": "WM_Task_2bk_Place_Median_RT",
         "rawType": "float64",
         "type": "float"
        },
        {
         "name": "WM_Task_2bk_Place_Median_RT_Target",
         "rawType": "float64",
         "type": "float"
        },
        {
         "name": "WM_Task_2bk_Place_Median_RT_Nontarget",
         "rawType": "float64",
         "type": "float"
        },
        {
         "name": "WM_Task_2bk_Tool_Median_RT",
         "rawType": "float64",
         "type": "float"
        },
        {
         "name": "WM_Task_2bk_Tool_Median_RT_Target",
         "rawType": "float64",
         "type": "float"
        },
        {
         "name": "WM_Task_2bk_Tool_Median_RT_Nontarget",
         "rawType": "float64",
         "type": "float"
        },
        {
         "name": "Endurance_Unadj",
         "rawType": "float64",
         "type": "float"
        },
        {
         "name": "Endurance_AgeAdj",
         "rawType": "float64",
         "type": "float"
        },
        {
         "name": "GaitSpeed_Comp",
         "rawType": "float64",
         "type": "float"
        },
        {
         "name": "Dexterity_Unadj",
         "rawType": "float64",
         "type": "float"
        },
        {
         "name": "Dexterity_AgeAdj",
         "rawType": "float64",
         "type": "float"
        },
        {
         "name": "Strength_Unadj",
         "rawType": "float64",
         "type": "float"
        },
        {
         "name": "Strength_AgeAdj",
         "rawType": "float64",
         "type": "float"
        },
        {
         "name": "NEOFAC_A",
         "rawType": "float64",
         "type": "float"
        },
        {
         "name": "NEOFAC_O",
         "rawType": "float64",
         "type": "float"
        },
        {
         "name": "NEOFAC_C",
         "rawType": "float64",
         "type": "float"
        },
        {
         "name": "NEOFAC_N",
         "rawType": "float64",
         "type": "float"
        },
        {
         "name": "NEOFAC_E",
         "rawType": "float64",
         "type": "float"
        },
        {
         "name": "NEORAW_01",
         "rawType": "object",
         "type": "string"
        },
        {
         "name": "NEORAW_02",
         "rawType": "object",
         "type": "string"
        },
        {
         "name": "NEORAW_03",
         "rawType": "object",
         "type": "string"
        },
        {
         "name": "NEORAW_04",
         "rawType": "object",
         "type": "string"
        },
        {
         "name": "NEORAW_05",
         "rawType": "object",
         "type": "string"
        },
        {
         "name": "NEORAW_06",
         "rawType": "object",
         "type": "string"
        },
        {
         "name": "NEORAW_07",
         "rawType": "object",
         "type": "string"
        },
        {
         "name": "NEORAW_08",
         "rawType": "object",
         "type": "string"
        },
        {
         "name": "NEORAW_09",
         "rawType": "object",
         "type": "string"
        },
        {
         "name": "NEORAW_10",
         "rawType": "object",
         "type": "string"
        },
        {
         "name": "NEORAW_11",
         "rawType": "object",
         "type": "string"
        },
        {
         "name": "NEORAW_12",
         "rawType": "object",
         "type": "string"
        },
        {
         "name": "NEORAW_13",
         "rawType": "object",
         "type": "string"
        },
        {
         "name": "NEORAW_14",
         "rawType": "object",
         "type": "string"
        },
        {
         "name": "NEORAW_15",
         "rawType": "object",
         "type": "string"
        },
        {
         "name": "NEORAW_16",
         "rawType": "object",
         "type": "string"
        },
        {
         "name": "NEORAW_17",
         "rawType": "object",
         "type": "string"
        },
        {
         "name": "NEORAW_18",
         "rawType": "object",
         "type": "string"
        },
        {
         "name": "NEORAW_19",
         "rawType": "object",
         "type": "string"
        },
        {
         "name": "NEORAW_20",
         "rawType": "object",
         "type": "string"
        },
        {
         "name": "NEORAW_21",
         "rawType": "object",
         "type": "string"
        },
        {
         "name": "NEORAW_22",
         "rawType": "object",
         "type": "string"
        },
        {
         "name": "NEORAW_23",
         "rawType": "object",
         "type": "string"
        },
        {
         "name": "NEORAW_24",
         "rawType": "object",
         "type": "string"
        },
        {
         "name": "NEORAW_25",
         "rawType": "object",
         "type": "string"
        },
        {
         "name": "NEORAW_26",
         "rawType": "object",
         "type": "string"
        },
        {
         "name": "NEORAW_27",
         "rawType": "object",
         "type": "string"
        },
        {
         "name": "NEORAW_28",
         "rawType": "object",
         "type": "string"
        },
        {
         "name": "NEORAW_29",
         "rawType": "object",
         "type": "string"
        },
        {
         "name": "NEORAW_30",
         "rawType": "object",
         "type": "string"
        },
        {
         "name": "NEORAW_31",
         "rawType": "object",
         "type": "string"
        },
        {
         "name": "NEORAW_32",
         "rawType": "object",
         "type": "string"
        },
        {
         "name": "NEORAW_33",
         "rawType": "object",
         "type": "string"
        },
        {
         "name": "NEORAW_34",
         "rawType": "object",
         "type": "string"
        },
        {
         "name": "NEORAW_35",
         "rawType": "object",
         "type": "string"
        },
        {
         "name": "NEORAW_36",
         "rawType": "object",
         "type": "string"
        },
        {
         "name": "NEORAW_37",
         "rawType": "object",
         "type": "string"
        },
        {
         "name": "NEORAW_38",
         "rawType": "object",
         "type": "string"
        },
        {
         "name": "NEORAW_39",
         "rawType": "object",
         "type": "string"
        },
        {
         "name": "NEORAW_40",
         "rawType": "object",
         "type": "string"
        },
        {
         "name": "NEORAW_41",
         "rawType": "object",
         "type": "string"
        },
        {
         "name": "NEORAW_42",
         "rawType": "object",
         "type": "string"
        },
        {
         "name": "NEORAW_43",
         "rawType": "object",
         "type": "string"
        },
        {
         "name": "NEORAW_44",
         "rawType": "object",
         "type": "string"
        },
        {
         "name": "NEORAW_45",
         "rawType": "object",
         "type": "string"
        },
        {
         "name": "NEORAW_46",
         "rawType": "object",
         "type": "string"
        },
        {
         "name": "NEORAW_47",
         "rawType": "object",
         "type": "string"
        },
        {
         "name": "NEORAW_48",
         "rawType": "object",
         "type": "string"
        },
        {
         "name": "NEORAW_49",
         "rawType": "object",
         "type": "string"
        },
        {
         "name": "NEORAW_50",
         "rawType": "object",
         "type": "string"
        },
        {
         "name": "NEORAW_51",
         "rawType": "object",
         "type": "string"
        },
        {
         "name": "NEORAW_52",
         "rawType": "object",
         "type": "string"
        },
        {
         "name": "NEORAW_53",
         "rawType": "object",
         "type": "string"
        },
        {
         "name": "NEORAW_54",
         "rawType": "object",
         "type": "string"
        },
        {
         "name": "NEORAW_55",
         "rawType": "object",
         "type": "string"
        },
        {
         "name": "NEORAW_56",
         "rawType": "object",
         "type": "string"
        },
        {
         "name": "NEORAW_57",
         "rawType": "object",
         "type": "string"
        },
        {
         "name": "NEORAW_58",
         "rawType": "object",
         "type": "string"
        },
        {
         "name": "NEORAW_59",
         "rawType": "object",
         "type": "string"
        },
        {
         "name": "NEORAW_60",
         "rawType": "object",
         "type": "string"
        },
        {
         "name": "Noise_Comp",
         "rawType": "float64",
         "type": "float"
        },
        {
         "name": "Odor_Unadj",
         "rawType": "float64",
         "type": "float"
        },
        {
         "name": "Odor_AgeAdj",
         "rawType": "float64",
         "type": "float"
        },
        {
         "name": "PainIntens_RawScore",
         "rawType": "float64",
         "type": "float"
        },
        {
         "name": "PainInterf_Tscore",
         "rawType": "float64",
         "type": "float"
        },
        {
         "name": "Taste_Unadj",
         "rawType": "float64",
         "type": "float"
        },
        {
         "name": "Taste_AgeAdj",
         "rawType": "float64",
         "type": "float"
        },
        {
         "name": "Mars_Log_Score",
         "rawType": "float64",
         "type": "float"
        },
        {
         "name": "Mars_Errs",
         "rawType": "float64",
         "type": "float"
        },
        {
         "name": "Mars_Final",
         "rawType": "float64",
         "type": "float"
        }
       ],
       "ref": "d7c54190-ab04-43b7-8ce0-a37df98f9028",
       "rows": [
        [
         "0",
         "100004",
         "S900",
         "Q06",
         "M",
         "22-25",
         "False",
         "0",
         "0",
         "0",
         "0.0",
         "False",
         "0.0",
         "0.0",
         "0.0",
         "0.0",
         "0.0",
         "0.0",
         "0.0",
         "0.0",
         "False",
         "0.0",
         null,
         null,
         "False",
         "0",
         "0.0",
         "False",
         "0.0",
         "False",
         "0.0",
         "False",
         "0.0",
         "False",
         "0.0",
         null,
         "False",
         "False",
         "False",
         "False",
         "False",
         "False",
         "False",
         "False",
         "False",
         "False",
         "False",
         "False",
         "False",
         "False",
         "False",
         "False",
         "True",
         "True",
         "True",
         "True",
         "True",
         "True",
         "True",
         "True",
         "True",
         "True",
         "True",
         "True",
         "True",
         "True",
         "True",
         "True",
         "True",
         "True",
         "True",
         "True",
         "True",
         "True",
         "True",
         "True",
         null,
         null,
         null,
         null,
         null,
         null,
         null,
         null,
         null,
         null,
         null,
         null,
         "29",
         "8",
         "1",
         "2",
         "2",
         "1",
         "1",
         "0",
         "1",
         "09:00:00",
         "30",
         "15:30:00",
         "5.0",
         "2",
         "1",
         "1",
         "0",
         "0",
         "0",
         "1",
         "0",
         "0",
         "0",
         "1",
         "0",
         "0",
         "2",
         "0.0",
         "118.7",
         "112.44",
         "103.17",
         "88.64",
         "121.97",
         "111.01",
         "19.0",
         "0.0",
         "15590.0",
         "109.9589",
         "96.91405",
         "111.1118",
         "104.9375",
         "92.72",
         "69.88",
         "153.13",
         "46.88",
         "21.88",
         "9.38",
         "21.88",
         "21.88",
         "34375.0",
         "24375.0",
         "625.0",
         "625.0",
         "625.0",
         "625.0",
         "0.12181146",
         "0.067448124",
         "9.0",
         "639.2308",
         "31.0",
         "53.0",
         "119.0",
         "1.0",
         "7.0",
         "520.0",
         "0.8833",
         "0.9917",
         "10.0",
         "37.0",
         "1290.0",
         "96.99",
         "85.26",
         "105.74",
         "87.73",
         "116.58",
         "104.72",
         "107.85",
         "91.75",
         "110.74",
         "100.46",
         "36.0",
         "1880.0",
         "7.0",
         "6.0",
         "8.0",
         "8.0",
         "7.0",
         "49.3",
         "62.2",
         "52.2",
         "51.2",
         "57.3",
         "53.7",
         "43.1",
         "40.1",
         "36.2",
         "27.6",
         "73.0",
         "60.0",
         "70.4",
         "29.3",
         "34.8",
         "55.4",
         "39.6",
         null,
         null,
         null,
         null,
         null,
         null,
         null,
         null,
         null,
         null,
         null,
         null,
         null,
         null,
         null,
         null,
         null,
         null,
         null,
         null,
         null,
         null,
         null,
         null,
         null,
         null,
         null,
         null,
         null,
         null,
         null,
         null,
         null,
         null,
         null,
         null,
         null,
         null,
         null,
         null,
         null,
         null,
         null,
         null,
         null,
         null,
         null,
         null,
         null,
         null,
         null,
         null,
         null,
         null,
         null,
         null,
         null,
         null,
         null,
         null,
         null,
         null,
         null,
         null,
         null,
         null,
         null,
         null,
         null,
         null,
         null,
         null,
         null,
         null,
         null,
         null,
         null,
         null,
         null,
         null,
         null,
         null,
         null,
         null,
         null,
         null,
         null,
         null,
         null,
         null,
         null,
         null,
         null,
         null,
         null,
         null,
         null,
         null,
         null,
         null,
         null,
         null,
         null,
         null,
         null,
         null,
         null,
         null,
         null,
         null,
         null,
         null,
         null,
         null,
         null,
         null,
         null,
         null,
         null,
         null,
         null,
         null,
         null,
         null,
         null,
         null,
         null,
         null,
         null,
         null,
         null,
         null,
         null,
         null,
         null,
         null,
         null,
         null,
         null,
         null,
         null,
         null,
         null,
         null,
         null,
         null,
         null,
         null,
         null,
         null,
         null,
         null,
         null,
         null,
         null,
         null,
         null,
         null,
         null,
         null,
         null,
         null,
         null,
         null,
         null,
         null,
         null,
         null,
         null,
         null,
         null,
         null,
         null,
         null,
         null,
         null,
         null,
         null,
         null,
         null,
         null,
         null,
         null,
         null,
         null,
         null,
         null,
         null,
         null,
         null,
         null,
         null,
         null,
         null,
         null,
         null,
         null,
         null,
         null,
         null,
         null,
         null,
         null,
         null,
         null,
         null,
         null,
         null,
         null,
         null,
         null,
         null,
         null,
         null,
         null,
         null,
         null,
         null,
         null,
         null,
         null,
         null,
         null,
         null,
         null,
         null,
         null,
         null,
         null,
         null,
         null,
         null,
         null,
         null,
         null,
         null,
         null,
         null,
         null,
         null,
         null,
         null,
         null,
         null,
         null,
         null,
         null,
         null,
         null,
         null,
         null,
         null,
         null,
         null,
         null,
         null,
         null,
         null,
         null,
         null,
         null,
         null,
         null,
         null,
         null,
         null,
         null,
         null,
         null,
         null,
         null,
         null,
         null,
         null,
         null,
         null,
         null,
         null,
         null,
         null,
         null,
         null,
         null,
         null,
         null,
         null,
         null,
         null,
         null,
         null,
         null,
         null,
         null,
         null,
         null,
         null,
         null,
         null,
         null,
         null,
         null,
         null,
         null,
         null,
         null,
         null,
         null,
         null,
         null,
         "122.02",
         "119.44",
         "1.31",
         "96.14",
         "83.77",
         "123.48",
         "119.3",
         "27.0",
         "15.0",
         "28.0",
         "24.0",
         "25.0",
         "A",
         "D",
         "SA",
         "SA",
         "N",
         "N",
         "A",
         "A",
         "D",
         "A",
         "A",
         "D",
         "D",
         "A",
         "A",
         "D",
         "N",
         "D",
         "A",
         "A",
         "D",
         "D",
         "A",
         "D",
         "A",
         "A",
         "N",
         "SD",
         "A",
         "A",
         "D",
         "D",
         "N",
         "A",
         "SA",
         "N",
         "N",
         "A",
         "A",
         "A",
         "D",
         "N",
         "D",
         "A",
         "A",
         "N",
         "A",
         "SA",
         "A",
         "A",
         "N",
         "A",
         "A",
         "A",
         "A",
         "D",
         "N",
         "N",
         "D",
         "A",
         "5.2",
         "101.12",
         "86.45",
         "2.0",
         "45.9",
         "107.17",
         "105.31",
         "1.8",
         "0.0",
         "1.8"
        ],
        [
         "1",
         "100206",
         "S900",
         "Q11",
         "M",
         "26-30",
         "True",
         "1",
         "1",
         "4",
         "100.0",
         "True",
         "100.0",
         "100.0",
         "100.0",
         "100.0",
         "100.0",
         "100.0",
         "100.0",
         "100.0",
         "True",
         "100.0",
         "r227",
         "r227",
         "False",
         "0",
         "0.0",
         "False",
         "0.0",
         "False",
         "0.0",
         "False",
         "0.0",
         "False",
         "0.0",
         null,
         "False",
         "False",
         "False",
         "False",
         "False",
         "False",
         "False",
         "False",
         "False",
         "False",
         "False",
         "False",
         "False",
         "False",
         "False",
         "False",
         "True",
         "True",
         "True",
         "True",
         "True",
         "True",
         "True",
         "True",
         "True",
         "True",
         "True",
         "False",
         "True",
         "True",
         "True",
         "True",
         "True",
         "True",
         "True",
         "True",
         "True",
         "True",
         "True",
         "True",
         null,
         "HCP3T",
         "Bias_Receive(8) Bias_Transmit(1) dMRI(6) dMRI_SBRef(6) FieldMap(2) FieldMap_SE_EPI(8) rfMRI(4) rfMRI_SBRef(4) T1w(1) T2w(1) tfMRI(14) tfMRI_SBRef(14)",
         "100206_3T",
         null,
         null,
         null,
         null,
         null,
         null,
         null,
         null,
         "30",
         "6",
         "1",
         "1",
         "1",
         "1",
         "1",
         "0",
         "1",
         "22:30:00",
         "5",
         "06:00:00",
         "6.0",
         "1",
         "1",
         "1",
         "0",
         "0",
         "0",
         "1",
         "0",
         "0",
         "1",
         "1",
         "0",
         "1",
         "1",
         "0.0",
         "125.07",
         "118.78",
         "119.14",
         "104.94",
         "130.42",
         "116.55",
         "20.0",
         "0.0",
         "18574.5",
         "113.546",
         "103.4441",
         "119.8914",
         "117.0361",
         "138.72",
         "131.89",
         "78.13",
         "34.38",
         "9.38",
         "21.88",
         "21.88",
         "9.38",
         "30625.0",
         "625.0",
         "625.0",
         "3125.0",
         "625.0",
         "625.0",
         "0.09707188",
         "0.05000021",
         "12.0",
         "1247.5758",
         "26.0",
         "58.0",
         "115.0",
         "5.0",
         "2.0",
         "520.0",
         "0.9667",
         "0.9583",
         "9.0",
         "34.0",
         "1475.0",
         "112.89",
         "103.57",
         "134.34",
         "130.07",
         "133.56",
         "128.23",
         "137.66",
         "133.76",
         "117.33",
         "113.89",
         "38.0",
         "1545.0",
         "7.0",
         "7.0",
         "8.0",
         "8.0",
         "8.0",
         "54.8",
         "61.7",
         "43.4",
         "63.3",
         "61.2",
         "55.0",
         "45.6",
         "50.0",
         "48.4",
         "45.7",
         "63.8",
         "63.8",
         "64.8",
         "43.9",
         "46.0",
         "57.8",
         "44.0",
         "1864518.373636",
         "1406924.0",
         "1389007.0",
         "1386835.729836",
         "304488.0",
         "305634.0",
         "610122.0",
         "70240.0",
         "807245.0",
         "1239692.0",
         "269963.0",
         "273170.0",
         "543134.0",
         "2118186.0",
         "0.754578",
         "1.13605",
         "32.0",
         "26.0",
         "58.0",
         "5057.0",
         "399.0",
         "16808.0",
         "62713.0",
         "10426.0",
         "4599.0",
         "5941.0",
         "1463.0",
         "1192.0",
         "1367.0",
         "24537.0",
         "4896.0",
         "1734.0",
         "1358.0",
         "589.0",
         "4711.0",
         "97.0",
         "1595.0",
         "5235.0",
         "498.0",
         "20072.0",
         "63893.0",
         "8812.0",
         "4748.0",
         "6581.0",
         "1573.0",
         "4963.0",
         "1994.0",
         "600.0",
         "4933.0",
         "80.0",
         "1613.0",
         "0.0",
         "1269.0",
         "0.0",
         "0.0",
         "0.0",
         "0.0",
         "325.0",
         "800.0",
         "409.0",
         "569.0",
         "522.0",
         "813.0",
         "2.733",
         "2.682",
         "2.765",
         "2.185",
         "3.388",
         "2.957",
         "2.583",
         "3.065",
         "2.428",
         "2.304",
         "2.916",
         "2.259",
         "2.573",
         "3.011",
         "2.916",
         "2.487",
         "2.822",
         "2.719",
         "2.562",
         "2.199",
         "2.259",
         "2.61",
         "2.661",
         "2.479",
         "3.102",
         "2.58",
         "2.827",
         "2.235",
         "3.017",
         "2.701",
         "2.78",
         "3.237",
         "2.677",
         "3.198",
         "2.744",
         "2.505",
         "2.713",
         "2.091",
         "3.35",
         "2.683",
         "2.592",
         "2.96",
         "2.313",
         "2.299",
         "2.737",
         "2.094",
         "2.62",
         "2.987",
         "2.487",
         "2.377",
         "2.823",
         "2.967",
         "2.624",
         "2.16",
         "2.215",
         "2.505",
         "2.632",
         "2.444",
         "3.115",
         "2.515",
         "2.731",
         "2.278",
         "3.032",
         "2.66",
         "2.641",
         "3.579",
         "3.147",
         "3.278",
         "1078.0",
         "983.0",
         "3808.0",
         "2098.0",
         "457.0",
         "3723.0",
         "4814.0",
         "3771.0",
         "1388.0",
         "5787.0",
         "2930.0",
         "3712.0",
         "2405.0",
         "3482.0",
         "839.0",
         "1576.0",
         "2000.0",
         "712.0",
         "1397.0",
         "2163.0",
         "4978.0",
         "1409.0",
         "5828.0",
         "4714.0",
         "1163.0",
         "8351.0",
         "8373.0",
         "7125.0",
         "4775.0",
         "4664.0",
         "298.0",
         "600.0",
         "547.0",
         "2237.0",
         "1324.0",
         "932.0",
         "3018.0",
         "2102.0",
         "450.0",
         "3883.0",
         "7436.0",
         "3684.0",
         "1480.0",
         "5537.0",
         "3077.0",
         "4074.0",
         "2286.0",
         "3716.0",
         "834.0",
         "1894.0",
         "1797.0",
         "1008.0",
         "1510.0",
         "2242.0",
         "4752.0",
         "1601.0",
         "6444.0",
         "5537.0",
         "791.0",
         "8627.0",
         "8515.0",
         "6315.0",
         "4337.0",
         "3522.0",
         "356.0",
         "500.0",
         "384.0",
         "2267.0",
         "95.278",
         "664.5",
         "93.333",
         "682.5",
         "97.222",
         "646.5",
         "45.312",
         "54.688",
         "0.0",
         "312.375",
         "282.5",
         "37.5",
         "327.5",
         "62.5",
         "284.0",
         "0.0",
         "53.125",
         "297.25",
         "46.875",
         "281.0",
         "0.0",
         "96.875",
         "3208.0",
         "100.0",
         "3020.75",
         "9.071",
         "93.75",
         "3395.25",
         "1.964",
         "73.75",
         "1587.875",
         "93.333",
         "1430.0",
         "54.167",
         "1745.75",
         "10.0",
         "90.0",
         "0.0",
         "0.0",
         "683.0",
         "1213.95",
         null,
         "20.0",
         "683.0",
         "80.0",
         "1375.1",
         "0.0",
         null,
         "0.0",
         "0.0",
         null,
         "100.0",
         "1052.8",
         "0.0",
         null,
         "0.0",
         "91.596",
         "767.44",
         "83.507",
         "921.208",
         "99.062",
         "625.5",
         "95.0",
         "100.0",
         "93.75",
         "100.0",
         "100.0",
         "100.0",
         "100.0",
         "100.0",
         "100.0",
         "100.0",
         "100.0",
         "100.0",
         "68.75",
         "50.0",
         "75.0",
         "81.25",
         "50.0",
         "91.667",
         "100.0",
         "100.0",
         "100.0",
         "93.75",
         "100.0",
         "91.667",
         "655.0",
         "716.75",
         "655.75",
         "597.25",
         "516.5",
         "635.5",
         "648.0",
         "623.0",
         "634.0",
         "593.0",
         "638.25",
         "593.0",
         "1054.0",
         "1015.5",
         "1042.0",
         "791.0",
         "757.5",
         "799.5",
         "919.25",
         "1168.75",
         "919.25",
         "853.25",
         "869.0",
         "865.5",
         "123.31",
         "121.27",
         "1.24",
         "106.61",
         "94.23",
         "132.46",
         "129.43",
         "29.0",
         "23.0",
         "26.0",
         "21.0",
         "32.0",
         "D",
         "A",
         "A",
         "SA",
         "N",
         "N",
         "A",
         "A",
         "N",
         "A",
         "D",
         "D",
         "N",
         "N",
         "D",
         "N",
         "A",
         "D",
         "A",
         "A",
         "D",
         "A",
         "N",
         "D",
         "N",
         "D",
         "N",
         "N",
         "A",
         "A",
         "N",
         "N",
         "D",
         "A",
         "A",
         "N",
         "A",
         "N",
         "D",
         "N",
         "N",
         "D",
         "D",
         "A",
         "A",
         "N",
         "N",
         "N",
         "A",
         "N",
         "N",
         "A",
         "A",
         "D",
         "N",
         "D",
         "N",
         "D",
         "A",
         "N",
         "6.0",
         "108.79",
         "97.19",
         "1.0",
         "49.7",
         "72.63",
         "72.03",
         "1.84",
         "0.0",
         "1.84"
        ],
        [
         "2",
         "100307",
         "Q1",
         "Q01",
         "F",
         "26-30",
         "True",
         "1",
         "1",
         "4",
         "100.0",
         "True",
         "100.0",
         "100.0",
         "100.0",
         "100.0",
         "100.0",
         "100.0",
         "100.0",
         "100.0",
         "True",
         "100.0",
         "r227",
         "r177",
         "False",
         "0",
         "0.0",
         "False",
         "0.0",
         "False",
         "0.0",
         "False",
         "0.0",
         "False",
         "0.0",
         null,
         "True",
         "False",
         "True",
         "True",
         "True",
         "True",
         "True",
         "True",
         "True",
         "True",
         "True",
         "True",
         "True",
         "True",
         "False",
         "False",
         "True",
         "True",
         "True",
         "True",
         "True",
         "True",
         "True",
         "True",
         "True",
         "True",
         "True",
         "True",
         "True",
         "True",
         "True",
         "True",
         "True",
         "True",
         "True",
         "True",
         "True",
         "True",
         "True",
         "True",
         null,
         "HCP3T",
         "Bias_Receive(8) Bias_Transmit(1) dMRI(6) dMRI_SBRef(6) FieldMap(2) FieldMap_SE_EPI(8) rfMRI(4) rfMRI_SBRef(4) T1w(1) T2w(1) tfMRI(14) tfMRI_SBRef(14)",
         "100307_3T",
         null,
         null,
         null,
         "SLU MEG",
         "Pnoise(1) Restin(3) Rnoise(1) StoryM(2) Wrkmem(2)",
         "100307_MEG",
         "9.0",
         "18.0",
         "29",
         "4",
         "1",
         "0",
         "1",
         "0",
         "2",
         "0",
         "0",
         "22:00:00",
         "5",
         "05:30:00",
         "6.5",
         "0",
         "3",
         "3",
         "0",
         "0",
         "0",
         "1",
         "0",
         "0",
         "3",
         "1",
         "0",
         "0",
         "0",
         "3.0",
         "110.61",
         "103.45",
         "123.75",
         "109.92",
         "112.56",
         "101.9",
         "17.0",
         "2.0",
         "11839.0",
         "111.07",
         "98.73",
         "107.2",
         "96.81",
         "122.65",
         "112.36",
         "103.13",
         "46.88",
         "103.13",
         "21.88",
         "21.88",
         "9.38",
         "19375.0",
         "29375.0",
         "24375.0",
         "9375.0",
         "9375.0",
         "9375.0",
         "0.16217604",
         "0.31145853",
         "9.0",
         "834.3",
         "29.0",
         "59.0",
         "115.0",
         "5.0",
         "1.0",
         "412.0",
         "0.9833",
         "0.9583",
         "11.0",
         "35.0",
         "1442.0",
         "108.06",
         "98.44",
         "118.16",
         "107.88",
         "116.2",
         "104.11",
         "116.73",
         "106.85",
         "109.38",
         "97.42",
         "39.0",
         "1471.0",
         "8.0",
         "8.0",
         "8.0",
         "8.0",
         "7.0",
         "46.9",
         "60.8",
         "43.4",
         "53.9",
         "47.2",
         "53.4",
         "48.0",
         "42.4",
         "46.2",
         "62.0",
         "53.7",
         "52.7",
         "54.1",
         "45.0",
         "52.3",
         "57.9",
         "37.5",
         "1512540.230745",
         "1109710.0",
         "1098854.0",
         "1097122.47474",
         "240030.0",
         "243207.0",
         "483238.0",
         "56623.0",
         "664124.0",
         "957615.0",
         "203472.0",
         "203819.0",
         "407292.0",
         "1549276.0",
         "0.733673",
         "1.024287",
         "20.0",
         "46.0",
         "66.0",
         "3559.0",
         "103.0",
         "13146.0",
         "61980.0",
         "7787.0",
         "3764.0",
         "4983.0",
         "1128.0",
         "529.0",
         "904.0",
         "21307.0",
         "4140.0",
         "1536.0",
         "869.0",
         "490.0",
         "3633.0",
         "115.0",
         "987.0",
         "2866.0",
         "500.0",
         "13769.0",
         "62612.0",
         "6609.0",
         "3918.0",
         "5078.0",
         "1301.0",
         "4590.0",
         "1658.0",
         "466.0",
         "3816.0",
         "70.0",
         "1007.0",
         "0.0",
         "1155.0",
         "0.0",
         "0.0",
         "0.0",
         "0.0",
         "195.0",
         "1029.0",
         "526.0",
         "578.0",
         "576.0",
         "649.0",
         "2.713",
         "3.253",
         "2.795",
         "1.957",
         "3.389",
         "3.062",
         "2.637",
         "2.968",
         "2.533",
         "2.259",
         "3.155",
         "2.145",
         "2.73",
         "3.075",
         "2.46",
         "2.572",
         "2.917",
         "3.165",
         "2.707",
         "1.891",
         "2.225",
         "2.864",
         "2.808",
         "2.513",
         "3.057",
         "2.791",
         "2.948",
         "2.247",
         "2.986",
         "2.684",
         "3.649",
         "3.612",
         "2.7",
         "3.349",
         "2.879",
         "3.02",
         "2.802",
         "2.117",
         "3.685",
         "2.995",
         "2.625",
         "3.076",
         "2.288",
         "2.403",
         "3.028",
         "2.179",
         "3.123",
         "3.187",
         "2.814",
         "2.587",
         "3.08",
         "2.978",
         "2.793",
         "2.05",
         "2.166",
         "2.743",
         "2.758",
         "2.601",
         "3.012",
         "2.789",
         "3.087",
         "2.25",
         "3.151",
         "2.766",
         "3.675",
         "4.026",
         "2.819",
         "3.002",
         "908.0",
         "588.0",
         "2347.0",
         "1350.0",
         "427.0",
         "3372.0",
         "4619.0",
         "3393.0",
         "826.0",
         "3956.0",
         "2426.0",
         "2563.0",
         "1924.0",
         "2773.0",
         "760.0",
         "1260.0",
         "1616.0",
         "580.0",
         "1089.0",
         "1305.0",
         "4060.0",
         "1232.0",
         "4724.0",
         "3537.0",
         "739.0",
         "5052.0",
         "6992.0",
         "4554.0",
         "3896.0",
         "3456.0",
         "185.0",
         "458.0",
         "443.0",
         "2100.0",
         "815.0",
         "547.0",
         "1783.0",
         "1487.0",
         "361.0",
         "2933.0",
         "5214.0",
         "3615.0",
         "741.0",
         "4067.0",
         "1996.0",
         "2493.0",
         "1613.0",
         "3128.0",
         "566.0",
         "1586.0",
         "1329.0",
         "631.0",
         "1457.0",
         "1306.0",
         "3586.0",
         "1077.0",
         "4876.0",
         "3672.0",
         "505.0",
         "5702.0",
         "6463.0",
         "4538.0",
         "3441.0",
         "3613.0",
         "257.0",
         "412.0",
         "375.0",
         "2385.0",
         "95.556",
         "618.875",
         "96.667",
         "609.75",
         "94.444",
         "628.0",
         "50.0",
         "50.0",
         "0.0",
         "293.25",
         "305.5",
         "46.875",
         "283.0",
         "53.125",
         "295.0",
         "0.0",
         "53.125",
         "303.5",
         "46.875",
         "316.0",
         "0.0",
         "80.417",
         "3463.375",
         "87.5",
         "3144.0",
         "9.607",
         "73.333",
         "3782.75",
         "2.893",
         "96.25",
         "1765.25",
         "96.667",
         "1385.5",
         "95.833",
         "2145.0",
         "40.0",
         "50.0",
         "10.0",
         "0.0",
         "726.8",
         "811.7",
         "645.0",
         "80.0",
         "726.8",
         "20.0",
         "1057.0",
         "0.0",
         null,
         "0.0",
         "0.0",
         null,
         "80.0",
         "566.4",
         "20.0",
         "645.0",
         "0.0",
         "85.425",
         "791.347",
         "77.083",
         "862.5",
         "93.125",
         "725.667",
         "95.0",
         "100.0",
         "93.75",
         "100.0",
         "100.0",
         "100.0",
         "100.0",
         "100.0",
         "100.0",
         "85.0",
         "50.0",
         "93.75",
         "68.75",
         "50.0",
         "75.0",
         "93.75",
         "75.0",
         "100.0",
         "87.5",
         "50.0",
         "100.0",
         "75.0",
         "75.0",
         "75.0",
         "741.0",
         "811.0",
         "750.75",
         "613.0",
         "583.0",
         "632.25",
         "679.0",
         "784.75",
         "655.5",
         "828.5",
         "827.5",
         "801.75",
         "1109.75",
         "767.5",
         "1307.25",
         "808.75",
         "733.75",
         "836.75",
         "788.5",
         "828.5",
         "784.0",
         "746.25",
         "838.5",
         "800.5",
         "114.05",
         "111.1",
         "1.58",
         "118.68",
         "105.21",
         "108.34",
         "84.59",
         "37.0",
         "24.0",
         "35.0",
         "15.0",
         "37.0",
         "N",
         "SA",
         "A",
         "A",
         "SA",
         "D",
         "A",
         "N",
         "D",
         "N",
         "A",
         "D",
         "N",
         "D",
         "N",
         "N",
         "A",
         "D",
         "N",
         "A",
         "D",
         "N",
         "A",
         "SD",
         "A",
         "D",
         "D",
         "D",
         "N",
         "D",
         "A",
         "A",
         "D",
         "A",
         "A",
         "SD",
         "A",
         "N",
         "D",
         "A",
         "D",
         "D",
         "N",
         "D",
         "D",
         "A",
         "A",
         "D",
         "A",
         "A",
         "D",
         "SA",
         "A",
         "SD",
         "D",
         "D",
         "D",
         "D",
         "SD",
         "A",
         "3.6",
         "101.12",
         "86.45",
         "0.0",
         "38.6",
         "71.69",
         "71.76",
         "1.76",
         "0.0",
         "1.76"
        ],
        [
         "3",
         "100408",
         "Q3",
         "Q03",
         "M",
         "31-35",
         "True",
         "1",
         "1",
         "4",
         "100.0",
         "True",
         "100.0",
         "100.0",
         "100.0",
         "100.0",
         "100.0",
         "100.0",
         "100.0",
         "100.0",
         "True",
         "100.0",
         "r227",
         "r177",
         "False",
         "0",
         "0.0",
         "False",
         "0.0",
         "False",
         "0.0",
         "False",
         "0.0",
         "False",
         "0.0",
         null,
         "False",
         "False",
         "False",
         "False",
         "False",
         "False",
         "False",
         "False",
         "False",
         "False",
         "False",
         "False",
         "False",
         "False",
         "False",
         "False",
         "True",
         "True",
         "True",
         "True",
         "True",
         "True",
         "True",
         "True",
         "True",
         "True",
         "True",
         "True",
         "True",
         "True",
         "True",
         "True",
         "True",
         "False",
         "True",
         "False",
         "True",
         "True",
         "True",
         "True",
         null,
         "HCP3T",
         "Bias_Receive(8) Bias_Transmit(1) dMRI(6) dMRI_SBRef(6) FieldMap(2) FieldMap_SE_EPI(8) rfMRI(4) rfMRI_SBRef(4) T1w(1) T2w(1) tfMRI(14) tfMRI_SBRef(14)",
         "100408_3T",
         null,
         null,
         null,
         null,
         null,
         null,
         null,
         null,
         "30",
         "4",
         "1",
         "1",
         "0",
         "0",
         "1",
         "0",
         "1",
         "22:00:00",
         "15",
         "06:30:00",
         "8.0",
         "1",
         "2",
         "1",
         "0",
         "0",
         "0",
         "0",
         "0",
         "0",
         "0",
         "1",
         "0",
         "0",
         "1",
         "3.0",
         "125.71",
         "125.19",
         "111.14",
         "100.77",
         "121.18",
         "113.51",
         "7.0",
         "12.0",
         "3042.0",
         "131.81",
         "125.64",
         "134.24",
         "132.63",
         "107.08",
         "96.0",
         "153.13",
         "46.88",
         "46.88",
         "46.88",
         "46.88",
         "9.38",
         "39375.0",
         "29375.0",
         "24375.0",
         "19375.0",
         "18125.0",
         "4375.0",
         "0.20306146",
         "0.42135438",
         "17.0",
         "900.2857",
         "17.0",
         "52.0",
         "110.0",
         "10.0",
         "8.0",
         "468.0",
         "0.8667",
         "0.9167",
         "9.0",
         "37.0",
         "1450.75",
         "108.06",
         "102.63",
         "116.64",
         "113.77",
         "132.46",
         "129.99",
         "137.53",
         "133.96",
         "134.34",
         "134.57",
         "36.0",
         "1537.0",
         "8.0",
         "8.0",
         "8.0",
         "5.0",
         "7.0",
         "50.6",
         "42.8",
         "59.9",
         "55.1",
         "54.7",
         "49.9",
         "57.7",
         "51.9",
         "48.4",
         "52.9",
         "51.9",
         "52.2",
         "50.1",
         "50.1",
         "51.1",
         "46.8",
         "56.4",
         "1684116.919426",
         "1280171.0",
         "1260943.0",
         "1259249.565302",
         "260695.0",
         "265243.0",
         "525938.0",
         "63869.0",
         "726206.0",
         "1106881.0",
         "247504.0",
         "252913.0",
         "500417.0",
         "1844923.0",
         "0.760144",
         "1.095484",
         "36.0",
         "22.0",
         "58.0",
         "3910.0",
         "51.0",
         "17022.0",
         "66666.0",
         "9097.0",
         "3647.0",
         "5622.0",
         "1765.0",
         "1070.0",
         "2622.0",
         "24481.0",
         "2571.0",
         "1342.0",
         "1098.0",
         "484.0",
         "5070.0",
         "98.0",
         "1068.0",
         "8254.0",
         "163.0",
         "16659.0",
         "70754.0",
         "8370.0",
         "4199.0",
         "5732.0",
         "2023.0",
         "4687.0",
         "1856.0",
         "545.0",
         "5074.0",
         "88.0",
         "1303.0",
         "0.0",
         "1279.0",
         "0.0",
         "0.0",
         "0.0",
         "0.0",
         "302.0",
         "972.0",
         "589.0",
         "528.0",
         "471.0",
         "858.0",
         "2.532",
         "2.588",
         "2.612",
         "2.127",
         "3.31",
         "2.87",
         "2.515",
         "2.84",
         "2.257",
         "2.247",
         "2.715",
         "2.294",
         "2.53",
         "2.868",
         "2.21",
         "2.489",
         "2.579",
         "2.79",
         "2.502",
         "1.919",
         "2.191",
         "2.575",
         "2.61",
         "2.498",
         "2.833",
         "2.525",
         "2.73",
         "2.311",
         "2.887",
         "2.567",
         "2.748",
         "3.344",
         "2.556",
         "2.968",
         "2.729",
         "2.232",
         "2.552",
         "2.173",
         "3.232",
         "2.816",
         "2.582",
         "2.857",
         "2.203",
         "2.272",
         "2.905",
         "2.223",
         "2.762",
         "2.991",
         "2.423",
         "2.536",
         "2.82",
         "2.742",
         "2.524",
         "2.056",
         "2.214",
         "2.481",
         "2.646",
         "2.529",
         "2.862",
         "2.502",
         "2.76",
         "2.282",
         "2.846",
         "2.554",
         "2.84",
         "3.102",
         "2.532",
         "2.947",
         "1112.0",
         "731.0",
         "2603.0",
         "1473.0",
         "599.0",
         "3433.0",
         "4845.0",
         "3688.0",
         "965.0",
         "4029.0",
         "2650.0",
         "3267.0",
         "2539.0",
         "3717.0",
         "1233.0",
         "1272.0",
         "1664.0",
         "634.0",
         "1500.0",
         "1445.0",
         "4599.0",
         "1498.0",
         "5281.0",
         "3867.0",
         "819.0",
         "6151.0",
         "8100.0",
         "5863.0",
         "4013.0",
         "4331.0",
         "273.0",
         "494.0",
         "499.0",
         "2726.0",
         "1093.0",
         "963.0",
         "2240.0",
         "1610.0",
         "403.0",
         "3550.0",
         "6328.0",
         "3918.0",
         "848.0",
         "4780.0",
         "2505.0",
         "3049.0",
         "2092.0",
         "3622.0",
         "743.0",
         "1660.0",
         "1325.0",
         "866.0",
         "1671.0",
         "1609.0",
         "4333.0",
         "1381.0",
         "5073.0",
         "4505.0",
         "631.0",
         "7092.0",
         "7484.0",
         "5367.0",
         "3984.0",
         "4144.0",
         "298.0",
         "410.0",
         "421.0",
         "2578.0",
         "100.0",
         "744.625",
         "100.0",
         "724.5",
         "100.0",
         "764.75",
         "56.563",
         "43.438",
         "0.0",
         "519.875",
         "473.5",
         "51.875",
         "506.0",
         "48.125",
         "455.25",
         "0.0",
         "61.25",
         "533.75",
         "38.75",
         "491.75",
         "0.0",
         "97.222",
         "3664.0",
         "100.0",
         "3612.5",
         "10.482",
         "94.444",
         "3715.5",
         "3.107",
         "80.417",
         "1829.25",
         "90.0",
         "1347.0",
         "70.833",
         "2311.5",
         "40.0",
         "50.0",
         "10.0",
         "0.0",
         "1341.6",
         "1295.4",
         "1536.0",
         "80.0",
         "1341.6",
         "0.0",
         null,
         "20.0",
         "1536.0",
         "0.0",
         "0.0",
         null,
         "100.0",
         "1295.4",
         "0.0",
         null,
         "0.0",
         "91.138",
         "953.107",
         "92.708",
         "1065.958",
         "89.688",
         "848.938",
         "85.0",
         "50.0",
         "93.75",
         "90.0",
         "75.0",
         "93.75",
         "100.0",
         "100.0",
         "100.0",
         "95.0",
         "100.0",
         "93.75",
         "81.25",
         "100.0",
         "75.0",
         "100.0",
         "100.0",
         "100.0",
         "100.0",
         "100.0",
         "100.0",
         "81.25",
         "100.0",
         "75.0",
         "878.75",
         "964.5",
         "856.75",
         "974.25",
         "819.5",
         "1004.75",
         "786.75",
         "733.5",
         "819.25",
         "777.25",
         "771.25",
         "800.75",
         "1168.5",
         "945.75",
         "1323.75",
         "1017.75",
         "882.5",
         "1105.25",
         "978.0",
         "820.75",
         "1071.0",
         "1176.25",
         "1046.75",
         "1255.25",
         "121.0",
         "121.8",
         "1.51",
         "117.48",
         "106.24",
         "125.18",
         "124.24",
         "33.0",
         "29.0",
         "34.0",
         "15.0",
         "33.0",
         "D",
         "A",
         "N",
         "SA",
         "A",
         "D",
         "SA",
         "SA",
         "D",
         "N",
         "D",
         "D",
         "A",
         "D",
         "D",
         "N",
         "N",
         "D",
         "A",
         "A",
         "D",
         "A",
         "A",
         "N",
         "A",
         "SD",
         "D",
         "A",
         "D",
         "N",
         "A",
         "D",
         "D",
         "A",
         "A",
         "SD",
         "A",
         "SD",
         "D",
         "A",
         "D",
         "N",
         "D",
         "N",
         "D",
         "N",
         "A",
         "D",
         "SA",
         "A",
         "D",
         "A",
         "A",
         "N",
         "D",
         "N",
         "D",
         "A",
         "A",
         "A",
         "2.0",
         "108.79",
         "98.04",
         "2.0",
         "52.6",
         "114.01",
         "113.59",
         "1.76",
         "2.0",
         "1.68"
        ],
        [
         "4",
         "100610",
         "S900",
         "Q08",
         "M",
         "26-30",
         "True",
         "2",
         "1",
         "4",
         "100.0",
         "True",
         "100.0",
         "100.0",
         "100.0",
         "100.0",
         "100.0",
         "100.0",
         "100.0",
         "100.0",
         "True",
         "100.0",
         "r227",
         "r227",
         "True",
         "4",
         "100.0",
         "True",
         "100.0",
         "True",
         "100.0",
         "True",
         "100.0",
         "True",
         "100.0",
         "2.0",
         "False",
         "False",
         "False",
         "False",
         "False",
         "False",
         "False",
         "False",
         "False",
         "False",
         "False",
         "False",
         "False",
         "False",
         "False",
         "False",
         "True",
         "True",
         "True",
         "True",
         "True",
         "True",
         "True",
         "True",
         "True",
         "True",
         "True",
         "True",
         "True",
         "True",
         "True",
         "True",
         "True",
         "True",
         "True",
         "True",
         "True",
         "True",
         "True",
         "True",
         null,
         "HCP3T",
         "Bias_Receive(10) Bias_Transmit(1) dMRI(6) dMRI_SBRef(6) FieldMap(2) FieldMap_SE_EPI(10) rfMRI(4) rfMRI_SBRef(4) T1w(2) T2w(1) tfMRI(14) tfMRI_SBRef(14)",
         "100610_3T",
         "7TAS",
         "Bias_Transmit(1) dMRI(4) dMRI_SBRef(4) FieldMap_SE_EPI(14) FieldMap_SE_EPI_SBRef(14) rfMRI(4) rfMRI_SBRef(4) tfMRI(10) tfMRI_SBRef(10)",
         "100610_7T",
         null,
         null,
         null,
         null,
         null,
         "30",
         "4",
         "1",
         "1",
         "0",
         "0",
         "1",
         "0",
         "1",
         "21:30:00",
         "15",
         "05:15:00",
         "7.0",
         "1",
         "0",
         "3",
         "0",
         "0",
         "0",
         "1",
         "0",
         "0",
         "0",
         "1",
         "0",
         "0",
         "1",
         "0.0",
         "109.04",
         "101.69",
         "129.84",
         "115.18",
         "126.53",
         "114.18",
         "23.0",
         "0.0",
         "12280.0",
         "141.3166",
         "132.4124",
         "140.8151",
         "146.5971",
         "111.11",
         "96.12",
         "196.88",
         "196.88",
         "184.38",
         "171.88",
         "146.88",
         "146.88",
         "39375.0",
         "39375.0",
         "39375.0",
         "39375.0",
         "36875.0",
         "24375.0",
         "0.8016292",
         "0.8687502",
         "18.0",
         "608.0952",
         "14.0",
         "60.0",
         "117.0",
         "3.0",
         "0.0",
         "465.0",
         "1.0",
         "0.975",
         "7.0",
         "38.0",
         "1240.0",
         "117.39",
         "108.26",
         "124.23",
         "115.63",
         "138.14",
         "133.47",
         "153.36",
         "153.36",
         "144.96",
         "149.19",
         "39.0",
         "1590.0",
         "8.0",
         "8.0",
         "8.0",
         "8.0",
         "7.0",
         "47.5",
         "49.1",
         "43.4",
         "49.6",
         "55.3",
         "44.2",
         "60.1",
         "46.8",
         "55.1",
         "44.9",
         "53.5",
         "38.5",
         "54.1",
         "56.8",
         "48.4",
         "37.8",
         "53.2",
         "1816044.05034",
         "1321362.0",
         "1306929.0",
         "1304568.925333",
         "276506.0",
         "278002.0",
         "554508.0",
         "74869.0",
         "762308.0",
         "1155067.0",
         "254742.0",
         "258203.0",
         "512946.0",
         "1827401.0",
         "0.727605",
         "1.006254",
         "16.0",
         "20.0",
         "36.0",
         "4262.0",
         "266.0",
         "15463.0",
         "66293.0",
         "9613.0",
         "4924.0",
         "6690.0",
         "1961.0",
         "899.0",
         "2076.0",
         "25477.0",
         "5608.0",
         "1848.0",
         "1141.0",
         "734.0",
         "5204.0",
         "119.0",
         "952.0",
         "3910.0",
         "439.0",
         "15094.0",
         "67073.0",
         "8173.0",
         "5059.0",
         "6648.0",
         "1894.0",
         "5903.0",
         "2123.0",
         "781.0",
         "5462.0",
         "81.0",
         "909.0",
         "0.0",
         "1154.0",
         "0.0",
         "0.0",
         "0.0",
         "0.0",
         "296.0",
         "1065.0",
         "618.0",
         "838.0",
         "729.0",
         "1072.0",
         "2.683",
         "3.029",
         "2.735",
         "2.223",
         "3.664",
         "2.873",
         "2.547",
         "3.062",
         "2.471",
         "2.238",
         "2.881",
         "2.149",
         "2.412",
         "3.014",
         "3.324",
         "2.518",
         "2.849",
         "2.865",
         "2.886",
         "2.009",
         "2.233",
         "2.556",
         "2.864",
         "2.512",
         "3.153",
         "2.687",
         "2.947",
         "2.272",
         "2.87",
         "2.671",
         "3.02",
         "3.427",
         "2.591",
         "3.156",
         "2.743",
         "2.623",
         "2.739",
         "2.12",
         "3.737",
         "2.912",
         "2.578",
         "2.8",
         "2.381",
         "2.3",
         "2.872",
         "2.304",
         "2.9",
         "3.013",
         "2.775",
         "2.536",
         "2.779",
         "2.842",
         "2.851",
         "2.142",
         "2.154",
         "2.528",
         "2.75",
         "2.512",
         "3.336",
         "2.62",
         "3.013",
         "2.257",
         "2.901",
         "2.632",
         "2.994",
         "3.723",
         "2.721",
         "3.068",
         "1174.0",
         "792.0",
         "2047.0",
         "1572.0",
         "480.0",
         "3898.0",
         "4659.0",
         "3764.0",
         "1131.0",
         "5357.0",
         "2873.0",
         "3500.0",
         "2370.0",
         "3636.0",
         "722.0",
         "1222.0",
         "1672.0",
         "650.0",
         "1503.0",
         "2018.0",
         "4179.0",
         "1198.0",
         "5062.0",
         "4095.0",
         "759.0",
         "6657.0",
         "7522.0",
         "6276.0",
         "3996.0",
         "4589.0",
         "206.0",
         "557.0",
         "537.0",
         "2406.0",
         "1005.0",
         "806.0",
         "1690.0",
         "1671.0",
         "468.0",
         "2912.0",
         "6906.0",
         "3696.0",
         "1053.0",
         "4582.0",
         "2723.0",
         "3748.0",
         "2139.0",
         "4062.0",
         "731.0",
         "1338.0",
         "1141.0",
         "1016.0",
         "1475.0",
         "2174.0",
         "3638.0",
         "1329.0",
         "5487.0",
         "4326.0",
         "629.0",
         "7027.0",
         "7088.0",
         "6820.0",
         "3876.0",
         "3730.0",
         "298.0",
         "393.0",
         "337.0",
         "2792.0",
         "100.0",
         "640.125",
         "100.0",
         "672.5",
         "100.0",
         "607.75",
         "0.0",
         "100.0",
         "0.0",
         null,
         "378.625",
         "0.0",
         null,
         "100.0",
         "371.25",
         "0.0",
         "0.0",
         null,
         "100.0",
         "386.0",
         "0.0",
         "100.0",
         "3540.25",
         "100.0",
         "3238.75",
         "12.446",
         "100.0",
         "3841.75",
         "3.107",
         "96.667",
         "1697.75",
         "93.333",
         "1477.0",
         "100.0",
         "1918.5",
         "50.0",
         "50.0",
         "0.0",
         "0.0",
         "848.4",
         "996.4",
         null,
         "100.0",
         "848.4",
         "0.0",
         null,
         "0.0",
         null,
         "0.0",
         "0.0",
         null,
         "100.0",
         "996.4",
         "0.0",
         null,
         "0.0",
         "96.867",
         "865.701",
         "96.181",
         "1017.833",
         "97.5",
         "725.271",
         "100.0",
         "100.0",
         "100.0",
         "100.0",
         "100.0",
         "100.0",
         "95.0",
         "75.0",
         "100.0",
         "100.0",
         "100.0",
         "100.0",
         "100.0",
         "100.0",
         "100.0",
         "100.0",
         "100.0",
         "100.0",
         "93.75",
         "75.0",
         "100.0",
         "93.75",
         "100.0",
         "91.667",
         "666.5",
         "822.25",
         "640.25",
         "685.75",
         "697.0",
         "676.5",
         "725.5",
         "851.5",
         "702.75",
         "685.5",
         "932.75",
         "617.0",
         "1182.0",
         "1335.0",
         "1149.0",
         "877.5",
         "870.5",
         "906.25",
         "867.25",
         "1099.0",
         "853.75",
         "1056.75",
         "911.75",
         "1105.25",
         "107.24",
         "102.79",
         "1.1",
         "121.55",
         "107.85",
         "123.16",
         "118.9",
         "31.0",
         "33.0",
         "36.0",
         "7.0",
         "15.0",
         "SA",
         "D",
         "D",
         "SA",
         "N",
         "D",
         "D",
         "SA",
         "SD",
         "SA",
         "SD",
         "D",
         "SA",
         "N",
         "SD",
         "A",
         "D",
         "SD",
         "N",
         "SA",
         "SD",
         "D",
         "D",
         "A",
         "A",
         "D",
         "A",
         "SD",
         "N",
         "A",
         "SA",
         "D",
         "D",
         "A",
         "A",
         "SD",
         "D",
         "N",
         "A",
         "A",
         "SD",
         "N",
         "A",
         "A",
         "D",
         "A",
         "D",
         "D",
         "SA",
         "A",
         "SD",
         "N",
         "SA",
         "SD",
         "D",
         "A",
         "SA",
         "SA",
         "D",
         "A",
         "2.0",
         "122.25",
         "110.45",
         "0.0",
         "38.6",
         "84.84",
         "85.31",
         "1.92",
         "1.0",
         "1.88"
        ]
       ],
       "shape": {
        "columns": 582,
        "rows": 5
       }
      },
      "text/html": [
       "<div>\n",
       "<style scoped>\n",
       "    .dataframe tbody tr th:only-of-type {\n",
       "        vertical-align: middle;\n",
       "    }\n",
       "\n",
       "    .dataframe tbody tr th {\n",
       "        vertical-align: top;\n",
       "    }\n",
       "\n",
       "    .dataframe thead th {\n",
       "        text-align: right;\n",
       "    }\n",
       "</style>\n",
       "<table border=\"1\" class=\"dataframe\">\n",
       "  <thead>\n",
       "    <tr style=\"text-align: right;\">\n",
       "      <th></th>\n",
       "      <th>Subject</th>\n",
       "      <th>Release</th>\n",
       "      <th>Acquisition</th>\n",
       "      <th>Gender</th>\n",
       "      <th>Age</th>\n",
       "      <th>3T_Full_MR_Compl</th>\n",
       "      <th>T1_Count</th>\n",
       "      <th>T2_Count</th>\n",
       "      <th>3T_RS-fMRI_Count</th>\n",
       "      <th>3T_RS-fMRI_PctCompl</th>\n",
       "      <th>...</th>\n",
       "      <th>Noise_Comp</th>\n",
       "      <th>Odor_Unadj</th>\n",
       "      <th>Odor_AgeAdj</th>\n",
       "      <th>PainIntens_RawScore</th>\n",
       "      <th>PainInterf_Tscore</th>\n",
       "      <th>Taste_Unadj</th>\n",
       "      <th>Taste_AgeAdj</th>\n",
       "      <th>Mars_Log_Score</th>\n",
       "      <th>Mars_Errs</th>\n",
       "      <th>Mars_Final</th>\n",
       "    </tr>\n",
       "  </thead>\n",
       "  <tbody>\n",
       "    <tr>\n",
       "      <th>0</th>\n",
       "      <td>100004</td>\n",
       "      <td>S900</td>\n",
       "      <td>Q06</td>\n",
       "      <td>M</td>\n",
       "      <td>22-25</td>\n",
       "      <td>False</td>\n",
       "      <td>0</td>\n",
       "      <td>0</td>\n",
       "      <td>0</td>\n",
       "      <td>0.0</td>\n",
       "      <td>...</td>\n",
       "      <td>5.2</td>\n",
       "      <td>101.12</td>\n",
       "      <td>86.45</td>\n",
       "      <td>2.0</td>\n",
       "      <td>45.9</td>\n",
       "      <td>107.17</td>\n",
       "      <td>105.31</td>\n",
       "      <td>1.80</td>\n",
       "      <td>0.0</td>\n",
       "      <td>1.80</td>\n",
       "    </tr>\n",
       "    <tr>\n",
       "      <th>1</th>\n",
       "      <td>100206</td>\n",
       "      <td>S900</td>\n",
       "      <td>Q11</td>\n",
       "      <td>M</td>\n",
       "      <td>26-30</td>\n",
       "      <td>True</td>\n",
       "      <td>1</td>\n",
       "      <td>1</td>\n",
       "      <td>4</td>\n",
       "      <td>100.0</td>\n",
       "      <td>...</td>\n",
       "      <td>6.0</td>\n",
       "      <td>108.79</td>\n",
       "      <td>97.19</td>\n",
       "      <td>1.0</td>\n",
       "      <td>49.7</td>\n",
       "      <td>72.63</td>\n",
       "      <td>72.03</td>\n",
       "      <td>1.84</td>\n",
       "      <td>0.0</td>\n",
       "      <td>1.84</td>\n",
       "    </tr>\n",
       "    <tr>\n",
       "      <th>2</th>\n",
       "      <td>100307</td>\n",
       "      <td>Q1</td>\n",
       "      <td>Q01</td>\n",
       "      <td>F</td>\n",
       "      <td>26-30</td>\n",
       "      <td>True</td>\n",
       "      <td>1</td>\n",
       "      <td>1</td>\n",
       "      <td>4</td>\n",
       "      <td>100.0</td>\n",
       "      <td>...</td>\n",
       "      <td>3.6</td>\n",
       "      <td>101.12</td>\n",
       "      <td>86.45</td>\n",
       "      <td>0.0</td>\n",
       "      <td>38.6</td>\n",
       "      <td>71.69</td>\n",
       "      <td>71.76</td>\n",
       "      <td>1.76</td>\n",
       "      <td>0.0</td>\n",
       "      <td>1.76</td>\n",
       "    </tr>\n",
       "    <tr>\n",
       "      <th>3</th>\n",
       "      <td>100408</td>\n",
       "      <td>Q3</td>\n",
       "      <td>Q03</td>\n",
       "      <td>M</td>\n",
       "      <td>31-35</td>\n",
       "      <td>True</td>\n",
       "      <td>1</td>\n",
       "      <td>1</td>\n",
       "      <td>4</td>\n",
       "      <td>100.0</td>\n",
       "      <td>...</td>\n",
       "      <td>2.0</td>\n",
       "      <td>108.79</td>\n",
       "      <td>98.04</td>\n",
       "      <td>2.0</td>\n",
       "      <td>52.6</td>\n",
       "      <td>114.01</td>\n",
       "      <td>113.59</td>\n",
       "      <td>1.76</td>\n",
       "      <td>2.0</td>\n",
       "      <td>1.68</td>\n",
       "    </tr>\n",
       "    <tr>\n",
       "      <th>4</th>\n",
       "      <td>100610</td>\n",
       "      <td>S900</td>\n",
       "      <td>Q08</td>\n",
       "      <td>M</td>\n",
       "      <td>26-30</td>\n",
       "      <td>True</td>\n",
       "      <td>2</td>\n",
       "      <td>1</td>\n",
       "      <td>4</td>\n",
       "      <td>100.0</td>\n",
       "      <td>...</td>\n",
       "      <td>2.0</td>\n",
       "      <td>122.25</td>\n",
       "      <td>110.45</td>\n",
       "      <td>0.0</td>\n",
       "      <td>38.6</td>\n",
       "      <td>84.84</td>\n",
       "      <td>85.31</td>\n",
       "      <td>1.92</td>\n",
       "      <td>1.0</td>\n",
       "      <td>1.88</td>\n",
       "    </tr>\n",
       "  </tbody>\n",
       "</table>\n",
       "<p>5 rows × 582 columns</p>\n",
       "</div>"
      ],
      "text/plain": [
       "   Subject Release Acquisition Gender    Age  3T_Full_MR_Compl  T1_Count  \\\n",
       "0   100004    S900         Q06      M  22-25             False         0   \n",
       "1   100206    S900         Q11      M  26-30              True         1   \n",
       "2   100307      Q1         Q01      F  26-30              True         1   \n",
       "3   100408      Q3         Q03      M  31-35              True         1   \n",
       "4   100610    S900         Q08      M  26-30              True         2   \n",
       "\n",
       "   T2_Count  3T_RS-fMRI_Count  3T_RS-fMRI_PctCompl  ...  Noise_Comp  \\\n",
       "0         0                 0                  0.0  ...         5.2   \n",
       "1         1                 4                100.0  ...         6.0   \n",
       "2         1                 4                100.0  ...         3.6   \n",
       "3         1                 4                100.0  ...         2.0   \n",
       "4         1                 4                100.0  ...         2.0   \n",
       "\n",
       "   Odor_Unadj  Odor_AgeAdj  PainIntens_RawScore  PainInterf_Tscore  \\\n",
       "0      101.12        86.45                  2.0               45.9   \n",
       "1      108.79        97.19                  1.0               49.7   \n",
       "2      101.12        86.45                  0.0               38.6   \n",
       "3      108.79        98.04                  2.0               52.6   \n",
       "4      122.25       110.45                  0.0               38.6   \n",
       "\n",
       "   Taste_Unadj  Taste_AgeAdj  Mars_Log_Score  Mars_Errs  Mars_Final  \n",
       "0       107.17        105.31            1.80        0.0        1.80  \n",
       "1        72.63         72.03            1.84        0.0        1.84  \n",
       "2        71.69         71.76            1.76        0.0        1.76  \n",
       "3       114.01        113.59            1.76        2.0        1.68  \n",
       "4        84.84         85.31            1.92        1.0        1.88  \n",
       "\n",
       "[5 rows x 582 columns]"
      ]
     },
     "execution_count": 25,
     "metadata": {},
     "output_type": "execute_result"
    }
   ],
   "source": [
    "df = pd.read_csv(r'C:\\Users\\Léandre\\Desktop\\projet asus\\Neuromatch\\hcp_behavior_unfiltered.csv')\n",
    "\n",
    "# Preview the first few rows\n",
    "df.head()\n",
    "\n",
    "\n"
   ]
  },
  {
   "cell_type": "code",
   "execution_count": 26,
   "id": "6919595a",
   "metadata": {},
   "outputs": [
    {
     "data": {
      "image/png": "[encoded data removed]",
      "text/plain": [
       "<Figure size 640x480 with 1 Axes>"
      ]
     },
     "metadata": {},
     "output_type": "display_data"
    },
    {
     "data": {
      "image/png": "[encoded data removed]",
      "text/plain": [
       "<Figure size 640x480 with 1 Axes>"
      ]
     },
     "metadata": {},
     "output_type": "display_data"
    },
    {
     "data": {
      "image/png": "[encoded data removed]",
      "text/plain": [
       "<Figure size 640x480 with 1 Axes>"
      ]
     },
     "metadata": {},
     "output_type": "display_data"
    },
    {
     "data": {
      "image/png": "[encoded data removed]",
      "text/plain": [
       "<Figure size 640x480 with 1 Axes>"
      ]
     },
     "metadata": {},
     "output_type": "display_data"
    },
    {
     "data": {
      "image/png": "[encoded data removed]",
      "text/plain": [
       "<Figure size 640x480 with 1 Axes>"
      ]
     },
     "metadata": {},
     "output_type": "display_data"
    }
   ],
   "source": [
    "## Basic EDA to visualize the distribution of each big five traits\n",
    "import seaborn as sns\n",
    "import matplotlib.pyplot as plt\n",
    "\n",
    "sns.histplot(df['NEOFAC_A'], bins=10, kde=True)\n",
    "plt.title('Distribution of Agreeableness Trait')\n",
    "plt.xlabel('Agreeableness')\n",
    "plt.ylabel('Count')\n",
    "plt.show()\n",
    "\n",
    "sns.histplot(df['NEOFAC_C'], bins=10, kde=True)\n",
    "plt.title('Distribution of Consciousness Trait')\n",
    "plt.xlabel('Agreeableness')\n",
    "plt.ylabel('Count')\n",
    "plt.show()\n",
    "\n",
    "sns.histplot(df['NEOFAC_O'], bins=10, kde=True)\n",
    "plt.title('Distribution of Openess Trait')\n",
    "plt.xlabel('Agreeableness')\n",
    "plt.ylabel('Count')\n",
    "plt.show()\n",
    "\n",
    "sns.histplot(df['NEOFAC_E'], bins=10, kde=True)\n",
    "plt.title('Distribution of Extraversion Trait')\n",
    "plt.xlabel('Agreeableness')\n",
    "plt.ylabel('Count')\n",
    "plt.show()\n",
    "\n",
    "sns.histplot(df['NEOFAC_N'], bins=10, kde=True)\n",
    "plt.title('Distribution of Neuroticism Trait')\n",
    "plt.xlabel('Agreeableness')\n",
    "plt.ylabel('Count')\n",
    "plt.show()\n"
   ]
  },
  {
   "cell_type": "code",
   "execution_count": 27,
   "id": "33a20081",
   "metadata": {},
   "outputs": [
    {
     "data": {
      "image/png": "[encoded data removed]",
      "text/plain": [
       "<Figure size 1000x600 with 1 Axes>"
      ]
     },
     "metadata": {},
     "output_type": "display_data"
    }
   ],
   "source": [
    "#visualize the differences in agreableness amongst the two genders\n",
    "\n",
    "# Plot boxplots\n",
    "\n",
    "df_long = pd.melt(df,\n",
    "                  id_vars='Gender',\n",
    "                  value_vars=['NEOFAC_A', 'NEOFAC_C', 'NEOFAC_O', 'NEOFAC_E', 'NEOFAC_N'],\n",
    "                  var_name='Trait',\n",
    "                  value_name='Score')\n",
    "\n",
    "\n",
    "plt.figure(figsize=(10, 6))\n",
    "sns.boxplot(x='Trait', y='Score', hue='Gender', data=df_long)\n",
    "\n",
    "plt.title('Big Five Trait Distribution by Gender')\n",
    "plt.xlabel('Personality Trait')\n",
    "plt.ylabel('Score')\n",
    "plt.legend(title='Gender')\n",
    "plt.tight_layout()\n",
    "plt.show()\n"
   ]
  },
  {
   "cell_type": "markdown",
   "id": "e2a7ed03",
   "metadata": {},
   "source": [
    "List of things to verify\n",
    "Pre-processing\n",
    "- Extreme score $\n",
    "- Sample size\n",
    "- Missing data $\n",
    "\n",
    "Postulats\n",
    "- Indépendance des scores\n",
    "- Normalité\n",
    "- Normalité des résiduels et de l'homoscédasticité\n",
    "- Homogénéité de la variance des résiduels\n",
    "- Matrice de corrélation\n",
    "- Multicolinéarité\n"
   ]
  },
  {
   "cell_type": "code",
   "execution_count": 28,
   "id": "c4644754",
   "metadata": {},
   "outputs": [
    {
     "name": "stderr",
     "output_type": "stream",
     "text": [
      "C:\\Users\\Léandre\\AppData\\Local\\Temp\\ipykernel_18488\\1113691861.py:8: SettingWithCopyWarning: \n",
      "A value is trying to be set on a copy of a slice from a DataFrame.\n",
      "Try using .loc[row_indexer,col_indexer] = value instead\n",
      "\n",
      "See the caveats in the documentation: https://pandas.pydata.org/pandas-docs/stable/user_guide/indexing.html#returning-a-view-versus-a-copy\n",
      "  subset[\"Gender_binary\"] = subset[\"Gender\"].map({\"M\":0,\"F\":1})\n"
     ]
    }
   ],
   "source": [
    "import numpy as np\n",
    "from scipy import stats\n",
    "\n",
    "relevant_columns = ['Subject','Age','Gender','NEOFAC_A','NEOFAC_C','NEOFAC_N','NEOFAC_O','NEOFAC_E' ] ##insert relevant column\n",
    "subset = df[relevant_columns]\n",
    "\n",
    "#Transform gender column\n",
    "subset[\"Gender_binary\"] = subset[\"Gender\"].map({\"M\":0,\"F\":1})\n",
    "\n",
    "#Transform age column\n",
    "\n",
    "subset = subset[subset[\"Age\"] != \"36+\"]\n",
    "def get_midpoint(age_range):\n",
    "    start, end = map(int, age_range.split(\"-\"))\n",
    "    return (start + end) / 2\n",
    "\n",
    "# Apply to the age range column (replace 'AgeRange' with your actual column name)\n",
    "subset[\"AgeMidpoint\"] = subset[\"Age\"].apply(get_midpoint)\n",
    "\n"
   ]
  },
  {
   "cell_type": "code",
   "execution_count": 29,
   "id": "04a199d4",
   "metadata": {},
   "outputs": [
    {
     "name": "stdout",
     "output_type": "stream",
     "text": [
      "Outlier indices: (array([  61,   92,  101,  103,  173,  175,  175,  201,  201,  225,  246,\n",
      "        246,  350,  410,  431,  431,  602,  632,  721,  837,  960, 1057,\n",
      "       1135, 1140]), array([1, 5, 3, 5, 3, 2, 5, 2, 3, 2, 2, 3, 3, 2, 1, 3, 5, 5, 3, 4, 1, 1,\n",
      "       2, 4]))\n"
     ]
    },
    {
     "data": {
      "image/png": "[encoded data removed]",
      "text/plain": [
       "<Figure size 640x480 with 1 Axes>"
      ]
     },
     "metadata": {},
     "output_type": "display_data"
    }
   ],
   "source": [
    "# Keep only numeric columns\n",
    "numeric_subset = subset.select_dtypes(include=[np.number])\n",
    "\n",
    "# Compute z-scores\n",
    "z_scores = np.abs(stats.zscore(numeric_subset, nan_policy='omit'))\n",
    "\n",
    "# Identify outlier locations\n",
    "outliers = np.where(z_scores > 3)\n",
    "print(\"Outlier indices:\", outliers)\n",
    "\n",
    "\n",
    "sns.boxplot(x=subset['NEOFAC_A'])\n",
    "plt.title(\"Boxplot of Agreeableness Scores (NEOFAC_A)\")\n",
    "plt.xlabel(\"NEOFAC_A\")\n",
    "plt.show()\n"
   ]
  },
  {
   "cell_type": "code",
   "execution_count": 30,
   "id": "c20a8579",
   "metadata": {},
   "outputs": [
    {
     "data": {
      "image/png": "[encoded data removed]",
      "text/plain": [
       "<Figure size 640x480 with 1 Axes>"
      ]
     },
     "metadata": {},
     "output_type": "display_data"
    }
   ],
   "source": [
    "import matplotlib.pyplot as plt\n",
    "import seaborn as sns\n",
    "from scipy.stats import shapiro\n",
    "\n",
    "#Normalité de la distribution\n",
    "\n",
    "sns.histplot(df['NEOFAC_A'], kde=True)\n",
    "plt.show()"
   ]
  },
  {
   "cell_type": "code",
   "execution_count": 31,
   "id": "76c3ea9f",
   "metadata": {},
   "outputs": [
    {
     "name": "stdout",
     "output_type": "stream",
     "text": [
      "Chi2: 0.0\n",
      "p-value: 1.0\n",
      "Degrees of Freedom: 0\n",
      "Expected Frequencies:\n",
      "[27. 29. 37. ... 28. 27. 34.]\n"
     ]
    }
   ],
   "source": [
    "import numpy as np\n",
    "from scipy.stats import chi2_contingency\n",
    "\n",
    "\n",
    "chi2, p, dof, expected = chi2_contingency(df['NEOFAC_A'])\n",
    "\n",
    "print(f\"Chi2: {chi2}\")\n",
    "print(f\"p-value: {p}\")\n",
    "print(f\"Degrees of Freedom: {dof}\")\n",
    "print(\"Expected Frequencies:\")\n",
    "print(expected)"
   ]
  },
  {
   "cell_type": "markdown",
   "id": "dcb8e1e5",
   "metadata": {},
   "source": [
    "p-value is over 0.05, so that means that there isn't a significant relationship between the data!"
   ]
  },
  {
   "cell_type": "code",
   "execution_count": 32,
   "id": "75584daa",
   "metadata": {},
   "outputs": [
    {
     "name": "stdout",
     "output_type": "stream",
     "text": [
      "Shapiro-Wilk test p-value: 7.211587516330701e-05\n"
     ]
    },
    {
     "data": {
      "image/png": "[encoded data removed]",
      "text/plain": [
       "<Figure size 640x480 with 1 Axes>"
      ]
     },
     "metadata": {},
     "output_type": "display_data"
    },
    {
     "data": {
      "image/png": "[encoded data removed]",
      "text/plain": [
       "<Figure size 640x480 with 1 Axes>"
      ]
     },
     "metadata": {},
     "output_type": "display_data"
    }
   ],
   "source": [
    "#Residual's normality\n",
    "\n",
    "import statsmodels.api as sm\n",
    "import statsmodels.formula.api as smf\n",
    "\n",
    "# Exemple : modèle linéaire avec agreeableness comme variable dépendante\n",
    "model = smf.ols('NEOFAC_A ~ Age + Gender', data=df).fit()\n",
    "residuals = model.resid\n",
    "\n",
    "from scipy.stats import shapiro\n",
    "\n",
    "stat, p_value = shapiro(residuals)\n",
    "print(f\"Shapiro-Wilk test p-value: {p_value}\")\n",
    "\n",
    "sns.histplot(residuals, kde=True)\n",
    "plt.title(\"Distribution des résiduels\")\n",
    "plt.show()\n",
    "\n",
    "# Q-Q plot\n",
    "sm.qqplot(residuals, line='s')\n",
    "plt.title(\"Q-Q Plot des résiduels\")\n",
    "plt.show()\n",
    "\n",
    "\n",
    "\n"
   ]
  },
  {
   "cell_type": "markdown",
   "id": "7be65a34",
   "metadata": {},
   "source": [
    "Shapiro p-value is 7.211, so the residuals are normally distributes"
   ]
  },
  {
   "cell_type": "code",
   "execution_count": 33,
   "id": "794b3bfe",
   "metadata": {},
   "outputs": [
    {
     "name": "stdout",
     "output_type": "stream",
     "text": [
      "{'Lagrange multiplier statistic': np.float64(1.803952826168873), 'p-value': np.float64(0.7717590800390302), 'f-value': np.float64(0.44978424367718267), 'f p-value': np.float64(0.7726126682631735)}\n"
     ]
    },
    {
     "data": {
      "image/png": "[encoded data removed]",
      "text/plain": [
       "<Figure size 640x480 with 1 Axes>"
      ]
     },
     "metadata": {},
     "output_type": "display_data"
    }
   ],
   "source": [
    "#homoscedasticity\n",
    "\n",
    "from statsmodels.stats.diagnostic import het_breuschpagan\n",
    "\n",
    "bp_test = het_breuschpagan(residuals, model.model.exog)\n",
    "labels = ['Lagrange multiplier statistic', 'p-value', 'f-value', 'f p-value']\n",
    "print(dict(zip(labels, bp_test)))\n",
    "\n",
    "plt.scatter(model.fittedvalues, residuals)\n",
    "plt.axhline(0, color='red', linestyle='--')\n",
    "plt.xlabel(\"Valeurs ajustées\")\n",
    "plt.ylabel(\"Résiduels\")\n",
    "plt.title(\"Résiduels vs Valeurs ajustées\")\n",
    "plt.show()\n",
    "\n"
   ]
  },
  {
   "cell_type": "code",
   "execution_count": 34,
   "id": "2173f717",
   "metadata": {},
   "outputs": [
    {
     "name": "stdout",
     "output_type": "stream",
     "text": [
      "       Variable       VIF\n",
      "0  Age[T.26-30]  1.279737\n",
      "1  Age[T.31-35]  1.139036\n",
      "2    Age[T.36+]  1.004630\n",
      "3   Gender[T.M]  1.423403\n"
     ]
    }
   ],
   "source": [
    "#multicollinearity\n",
    "\n",
    "from statsmodels.stats.outliers_influence import variance_inflation_factor\n",
    "import pandas as pd\n",
    "\n",
    "# Créer un DataFrame des variables explicatives (sans constante)\n",
    "X = pd.DataFrame(model.model.exog, columns=model.model.exog_names)\n",
    "X = X.drop(columns='Intercept', errors='ignore')  # si présente\n",
    "\n",
    "# Calcul du VIF pour chaque variable\n",
    "vif_data = pd.DataFrame()\n",
    "vif_data['Variable'] = X.columns\n",
    "vif_data['VIF'] = [variance_inflation_factor(X.values, i) for i in range(X.shape[1])]\n",
    "\n",
    "print(vif_data)\n"
   ]
  },
  {
   "cell_type": "markdown",
   "id": "895df7d8",
   "metadata": {},
   "source": [
    "From now on, I will upload the data from the fMRI.ipynb, which is the average contrast of the TPJ, mPFC, PCC, and merge it with the Big Five personnality trait, to start our analysis"
   ]
  },
  {
   "cell_type": "code",
   "execution_count": 58,
   "id": "76eadadc",
   "metadata": {},
   "outputs": [
    {
     "data": {
      "application/vnd.microsoft.datawrangler.viewer.v0+json": {
       "columns": [
        {
         "name": "index",
         "rawType": "int64",
         "type": "integer"
        },
        {
         "name": "Subject",
         "rawType": "int64",
         "type": "integer"
        },
        {
         "name": "MPFC_R",
         "rawType": "float64",
         "type": "float"
        },
        {
         "name": "TPJ_R",
         "rawType": "float64",
         "type": "float"
        },
        {
         "name": "PCC_R",
         "rawType": "float64",
         "type": "float"
        },
        {
         "name": "MPFC_L",
         "rawType": "float64",
         "type": "float"
        },
        {
         "name": "TPJ_L",
         "rawType": "float64",
         "type": "float"
        },
        {
         "name": "PCC_L",
         "rawType": "float64",
         "type": "float"
        },
        {
         "name": "Age",
         "rawType": "object",
         "type": "string"
        },
        {
         "name": "Gender",
         "rawType": "object",
         "type": "string"
        },
        {
         "name": "NEOFAC_A",
         "rawType": "float64",
         "type": "float"
        },
        {
         "name": "NEOFAC_C",
         "rawType": "float64",
         "type": "float"
        },
        {
         "name": "NEOFAC_N",
         "rawType": "float64",
         "type": "float"
        },
        {
         "name": "NEOFAC_O",
         "rawType": "float64",
         "type": "float"
        },
        {
         "name": "NEOFAC_E",
         "rawType": "float64",
         "type": "float"
        },
        {
         "name": "Gender_binary",
         "rawType": "int64",
         "type": "integer"
        },
        {
         "name": "AgeMidpoint",
         "rawType": "float64",
         "type": "float"
        }
       ],
       "ref": "bf16336d-ed74-4ef1-a77d-318181e07ff7",
       "rows": [
        [
         "0",
         "100307",
         "-3.656883786665295",
         "-7.637942174398871",
         "-6.377642359999462",
         "-12.540862051217388",
         "0.6885239390482649",
         "-10.477918019358908",
         "26-30",
         "F",
         "37.0",
         "35.0",
         "15.0",
         "24.0",
         "37.0",
         "1",
         "28.0"
        ],
        [
         "1",
         "100408",
         "14.714599913917947",
         "-3.538952847267041",
         "2.434034901686549",
         "5.191102442704054",
         "9.588063070853345",
         "8.949742672515729",
         "31-35",
         "M",
         "33.0",
         "34.0",
         "15.0",
         "29.0",
         "33.0",
         "0",
         "33.0"
        ],
        [
         "2",
         "101915",
         "2.94698461272874",
         "-12.760325958616132",
         "-0.9623084382731796",
         "1.7949764668425705",
         "13.003542526634323",
         "3.743690683402067",
         "31-35",
         "F",
         "35.0",
         "45.0",
         "8.0",
         "30.0",
         "31.0",
         "1",
         "33.0"
        ],
        [
         "3",
         "102816",
         "29.02722033996445",
         "12.166129848644342",
         "25.03073709457328",
         "36.90490781547527",
         "19.01506642329801",
         "21.884879808347765",
         "26-30",
         "F",
         "36.0",
         "32.0",
         "10.0",
         "27.0",
         "31.0",
         "1",
         "28.0"
        ],
        [
         "4",
         "103414",
         "5.385582318462864",
         "-7.945757081563711",
         "4.577065889780157",
         "13.759387905416247",
         "0.4935153704424562",
         "-1.0605788607806903",
         "22-25",
         "F",
         "27.0",
         "31.0",
         "20.0",
         "30.0",
         "34.0",
         "1",
         "23.5"
        ]
       ],
       "shape": {
        "columns": 16,
        "rows": 5
       }
      },
      "text/html": [
       "<div>\n",
       "<style scoped>\n",
       "    .dataframe tbody tr th:only-of-type {\n",
       "        vertical-align: middle;\n",
       "    }\n",
       "\n",
       "    .dataframe tbody tr th {\n",
       "        vertical-align: top;\n",
       "    }\n",
       "\n",
       "    .dataframe thead th {\n",
       "        text-align: right;\n",
       "    }\n",
       "</style>\n",
       "<table border=\"1\" class=\"dataframe\">\n",
       "  <thead>\n",
       "    <tr style=\"text-align: right;\">\n",
       "      <th></th>\n",
       "      <th>Subject</th>\n",
       "      <th>MPFC_R</th>\n",
       "      <th>TPJ_R</th>\n",
       "      <th>PCC_R</th>\n",
       "      <th>MPFC_L</th>\n",
       "      <th>TPJ_L</th>\n",
       "      <th>PCC_L</th>\n",
       "      <th>Age</th>\n",
       "      <th>Gender</th>\n",
       "      <th>NEOFAC_A</th>\n",
       "      <th>NEOFAC_C</th>\n",
       "      <th>NEOFAC_N</th>\n",
       "      <th>NEOFAC_O</th>\n",
       "      <th>NEOFAC_E</th>\n",
       "      <th>Gender_binary</th>\n",
       "      <th>AgeMidpoint</th>\n",
       "    </tr>\n",
       "  </thead>\n",
       "  <tbody>\n",
       "    <tr>\n",
       "      <th>0</th>\n",
       "      <td>100307</td>\n",
       "      <td>-3.656884</td>\n",
       "      <td>-7.637942</td>\n",
       "      <td>-6.377642</td>\n",
       "      <td>-12.540862</td>\n",
       "      <td>0.688524</td>\n",
       "      <td>-10.477918</td>\n",
       "      <td>26-30</td>\n",
       "      <td>F</td>\n",
       "      <td>37.0</td>\n",
       "      <td>35.0</td>\n",
       "      <td>15.0</td>\n",
       "      <td>24.0</td>\n",
       "      <td>37.0</td>\n",
       "      <td>1</td>\n",
       "      <td>28.0</td>\n",
       "    </tr>\n",
       "    <tr>\n",
       "      <th>1</th>\n",
       "      <td>100408</td>\n",
       "      <td>14.714600</td>\n",
       "      <td>-3.538953</td>\n",
       "      <td>2.434035</td>\n",
       "      <td>5.191102</td>\n",
       "      <td>9.588063</td>\n",
       "      <td>8.949743</td>\n",
       "      <td>31-35</td>\n",
       "      <td>M</td>\n",
       "      <td>33.0</td>\n",
       "      <td>34.0</td>\n",
       "      <td>15.0</td>\n",
       "      <td>29.0</td>\n",
       "      <td>33.0</td>\n",
       "      <td>0</td>\n",
       "      <td>33.0</td>\n",
       "    </tr>\n",
       "    <tr>\n",
       "      <th>2</th>\n",
       "      <td>101915</td>\n",
       "      <td>2.946985</td>\n",
       "      <td>-12.760326</td>\n",
       "      <td>-0.962308</td>\n",
       "      <td>1.794976</td>\n",
       "      <td>13.003543</td>\n",
       "      <td>3.743691</td>\n",
       "      <td>31-35</td>\n",
       "      <td>F</td>\n",
       "      <td>35.0</td>\n",
       "      <td>45.0</td>\n",
       "      <td>8.0</td>\n",
       "      <td>30.0</td>\n",
       "      <td>31.0</td>\n",
       "      <td>1</td>\n",
       "      <td>33.0</td>\n",
       "    </tr>\n",
       "    <tr>\n",
       "      <th>3</th>\n",
       "      <td>102816</td>\n",
       "      <td>29.027220</td>\n",
       "      <td>12.166130</td>\n",
       "      <td>25.030737</td>\n",
       "      <td>36.904908</td>\n",
       "      <td>19.015066</td>\n",
       "      <td>21.884880</td>\n",
       "      <td>26-30</td>\n",
       "      <td>F</td>\n",
       "      <td>36.0</td>\n",
       "      <td>32.0</td>\n",
       "      <td>10.0</td>\n",
       "      <td>27.0</td>\n",
       "      <td>31.0</td>\n",
       "      <td>1</td>\n",
       "      <td>28.0</td>\n",
       "    </tr>\n",
       "    <tr>\n",
       "      <th>4</th>\n",
       "      <td>103414</td>\n",
       "      <td>5.385582</td>\n",
       "      <td>-7.945757</td>\n",
       "      <td>4.577066</td>\n",
       "      <td>13.759388</td>\n",
       "      <td>0.493515</td>\n",
       "      <td>-1.060579</td>\n",
       "      <td>22-25</td>\n",
       "      <td>F</td>\n",
       "      <td>27.0</td>\n",
       "      <td>31.0</td>\n",
       "      <td>20.0</td>\n",
       "      <td>30.0</td>\n",
       "      <td>34.0</td>\n",
       "      <td>1</td>\n",
       "      <td>23.5</td>\n",
       "    </tr>\n",
       "  </tbody>\n",
       "</table>\n",
       "</div>"
      ],
      "text/plain": [
       "   Subject     MPFC_R      TPJ_R      PCC_R     MPFC_L      TPJ_L      PCC_L  \\\n",
       "0   100307  -3.656884  -7.637942  -6.377642 -12.540862   0.688524 -10.477918   \n",
       "1   100408  14.714600  -3.538953   2.434035   5.191102   9.588063   8.949743   \n",
       "2   101915   2.946985 -12.760326  -0.962308   1.794976  13.003543   3.743691   \n",
       "3   102816  29.027220  12.166130  25.030737  36.904908  19.015066  21.884880   \n",
       "4   103414   5.385582  -7.945757   4.577066  13.759388   0.493515  -1.060579   \n",
       "\n",
       "     Age Gender  NEOFAC_A  NEOFAC_C  NEOFAC_N  NEOFAC_O  NEOFAC_E  \\\n",
       "0  26-30      F      37.0      35.0      15.0      24.0      37.0   \n",
       "1  31-35      M      33.0      34.0      15.0      29.0      33.0   \n",
       "2  31-35      F      35.0      45.0       8.0      30.0      31.0   \n",
       "3  26-30      F      36.0      32.0      10.0      27.0      31.0   \n",
       "4  22-25      F      27.0      31.0      20.0      30.0      34.0   \n",
       "\n",
       "   Gender_binary  AgeMidpoint  \n",
       "0              1         28.0  \n",
       "1              0         33.0  \n",
       "2              1         33.0  \n",
       "3              1         28.0  \n",
       "4              1         23.5  "
      ]
     },
     "execution_count": 58,
     "metadata": {},
     "output_type": "execute_result"
    }
   ],
   "source": [
    "DNM_TOM = pd.read_csv('TPJ-MPFC-PCC.csv')\n",
    "\n",
    "#merge Brain data + personnality data\n",
    "DNM_TOM  = DNM_TOM .rename(columns={'subject': 'Subject'})\n",
    "\n",
    "merged_df = pd.merge(DNM_TOM , subset, on='Subject') \n",
    "\n",
    "merged_df.head()"
   ]
  },
  {
   "cell_type": "code",
   "execution_count": 60,
   "id": "5fde634e",
   "metadata": {},
   "outputs": [
    {
     "name": "stdout",
     "output_type": "stream",
     "text": [
      "                             OLS Regression Results                            \n",
      "===============================================================================\n",
      "Dep. Variable:                NEOFAC_O   R-squared:                       0.081\n",
      "Model:                             OLS   Adj. R-squared:                  0.053\n",
      "Method:                  Least Squares   F-statistic:                     2.831\n",
      "Date:              mar., 22 juil. 2025   Prob (F-statistic):             0.0424\n",
      "Time:                         16:02:50   Log-Likelihood:                -315.54\n",
      "No. Observations:                  100   AIC:                             639.1\n",
      "Df Residuals:                       96   BIC:                             649.5\n",
      "Df Model:                            3                                         \n",
      "Covariance Type:             nonrobust                                         \n",
      "=================================================================================\n",
      "                    coef    std err          t      P>|t|      [0.025      0.975]\n",
      "---------------------------------------------------------------------------------\n",
      "const            34.7424      5.413      6.419      0.000      23.998      45.487\n",
      "MPFC_R           -0.0852      0.045     -1.880      0.063      -0.175       0.005\n",
      "AgeMidpoint      -0.1481      0.181     -0.819      0.415      -0.507       0.211\n",
      "Gender_binary    -2.1890      1.198     -1.827      0.071      -4.567       0.189\n",
      "==============================================================================\n",
      "Omnibus:                        1.472   Durbin-Watson:                   1.860\n",
      "Prob(Omnibus):                  0.479   Jarque-Bera (JB):                1.005\n",
      "Skew:                           0.222   Prob(JB):                        0.605\n",
      "Kurtosis:                       3.210   Cond. No.                         297.\n",
      "==============================================================================\n",
      "\n",
      "Notes:\n",
      "[1] Standard Errors assume that the covariance matrix of the errors is correctly specified.\n"
     ]
    }
   ],
   "source": [
    "#First, let's do a linear regression\n",
    "import statsmodels.api as sm\n",
    "\n",
    "# Predict Agreeableness from brain activation\n",
    "X = merged_df[['MPFC_R','AgeMidpoint','Gender_binary']]\n",
    "X = sm.add_constant(X)  # Adds intercept term\n",
    "y = merged_df['NEOFAC_O']\n",
    "\n",
    "model = sm.OLS(y, X).fit()\n",
    "print(model.summary())\n",
    "\n",
    "\n"
   ]
  },
  {
   "cell_type": "code",
   "execution_count": 52,
   "id": "36513c63",
   "metadata": {},
   "outputs": [
    {
     "name": "stdout",
     "output_type": "stream",
     "text": [
      "                             OLS Regression Results                            \n",
      "===============================================================================\n",
      "Dep. Variable:                NEOFAC_O   R-squared:                       0.049\n",
      "Model:                             OLS   Adj. R-squared:                  0.019\n",
      "Method:                  Least Squares   F-statistic:                     1.647\n",
      "Date:              mar., 22 juil. 2025   Prob (F-statistic):              0.184\n",
      "Time:                         15:59:54   Log-Likelihood:                -317.27\n",
      "No. Observations:                  100   AIC:                             642.5\n",
      "Df Residuals:                       96   BIC:                             653.0\n",
      "Df Model:                            3                                         \n",
      "Covariance Type:             nonrobust                                         \n",
      "=================================================================================\n",
      "                    coef    std err          t      P>|t|      [0.025      0.975]\n",
      "---------------------------------------------------------------------------------\n",
      "const            34.3778      5.561      6.182      0.000      23.340      45.415\n",
      "MPFC_L           -0.0092      0.024     -0.389      0.698      -0.056       0.038\n",
      "AgeMidpoint      -0.1585      0.186     -0.850      0.397      -0.529       0.212\n",
      "Gender_binary    -2.3602      1.216     -1.941      0.055      -4.773       0.053\n",
      "==============================================================================\n",
      "Omnibus:                        2.051   Durbin-Watson:                   1.865\n",
      "Prob(Omnibus):                  0.359   Jarque-Bera (JB):                1.515\n",
      "Skew:                           0.276   Prob(JB):                        0.469\n",
      "Kurtosis:                       3.243   Cond. No.                         305.\n",
      "==============================================================================\n",
      "\n",
      "Notes:\n",
      "[1] Standard Errors assume that the covariance matrix of the errors is correctly specified.\n"
     ]
    }
   ],
   "source": [
    "# Predict Agreeableness from brain activation\n",
    "X = merged_df[['MPFC_L','AgeMidpoint','Gender_binary']]\n",
    "X = sm.add_constant(X)  # Adds intercept term\n",
    "y = merged_df['NEOFAC_O']\n",
    "\n",
    "model = sm.OLS(y, X).fit()\n",
    "print(model.summary())\n",
    "\n",
    "\n"
   ]
  },
  {
   "cell_type": "code",
   "execution_count": 55,
   "id": "7fb5b034",
   "metadata": {},
   "outputs": [
    {
     "name": "stdout",
     "output_type": "stream",
     "text": [
      "                             OLS Regression Results                            \n",
      "===============================================================================\n",
      "Dep. Variable:                NEOFAC_O   R-squared:                       0.070\n",
      "Model:                             OLS   Adj. R-squared:                  0.041\n",
      "Method:                  Least Squares   F-statistic:                     2.417\n",
      "Date:              mar., 22 juil. 2025   Prob (F-statistic):             0.0711\n",
      "Time:                         16:00:43   Log-Likelihood:                -316.14\n",
      "No. Observations:                  100   AIC:                             640.3\n",
      "Df Residuals:                       96   BIC:                             650.7\n",
      "Df Model:                            3                                         \n",
      "Covariance Type:             nonrobust                                         \n",
      "=================================================================================\n",
      "                    coef    std err          t      P>|t|      [0.025      0.975]\n",
      "---------------------------------------------------------------------------------\n",
      "const            34.8792      5.447      6.404      0.000      24.068      45.691\n",
      "TPJ_R            -0.0601      0.039     -1.534      0.128      -0.138       0.018\n",
      "AgeMidpoint      -0.1800      0.182     -0.990      0.324      -0.541       0.181\n",
      "Gender_binary    -2.4011      1.202     -1.997      0.049      -4.788      -0.014\n",
      "==============================================================================\n",
      "Omnibus:                        2.265   Durbin-Watson:                   1.882\n",
      "Prob(Omnibus):                  0.322   Jarque-Bera (JB):                1.700\n",
      "Skew:                           0.290   Prob(JB):                        0.428\n",
      "Kurtosis:                       3.266   Cond. No.                         280.\n",
      "==============================================================================\n",
      "\n",
      "Notes:\n",
      "[1] Standard Errors assume that the covariance matrix of the errors is correctly specified.\n"
     ]
    }
   ],
   "source": [
    "# Predict Agreeableness from brain activation\n",
    "X = merged_df[['TPJ_R','AgeMidpoint','Gender_binary']]\n",
    "X = sm.add_constant(X)  # Adds intercept term\n",
    "y = merged_df['NEOFAC_O']\n",
    "\n",
    "model = sm.OLS(y, X).fit()\n",
    "print(model.summary())"
   ]
  },
  {
   "cell_type": "code",
   "execution_count": 56,
   "id": "81e6dd6e",
   "metadata": {},
   "outputs": [
    {
     "name": "stdout",
     "output_type": "stream",
     "text": [
      "                             OLS Regression Results                            \n",
      "===============================================================================\n",
      "Dep. Variable:                NEOFAC_O   R-squared:                       0.068\n",
      "Model:                             OLS   Adj. R-squared:                  0.039\n",
      "Method:                  Least Squares   F-statistic:                     2.322\n",
      "Date:              mar., 22 juil. 2025   Prob (F-statistic):             0.0800\n",
      "Time:                         16:00:51   Log-Likelihood:                -316.27\n",
      "No. Observations:                  100   AIC:                             640.5\n",
      "Df Residuals:                       96   BIC:                             651.0\n",
      "Df Model:                            3                                         \n",
      "Covariance Type:             nonrobust                                         \n",
      "=================================================================================\n",
      "                    coef    std err          t      P>|t|      [0.025      0.975]\n",
      "---------------------------------------------------------------------------------\n",
      "const            33.6799      5.496      6.128      0.000      22.770      44.590\n",
      "TPJ_L            -0.0414      0.029     -1.442      0.152      -0.098       0.016\n",
      "AgeMidpoint      -0.1378      0.183     -0.752      0.454      -0.502       0.226\n",
      "Gender_binary    -2.1369      1.213     -1.761      0.081      -4.545       0.271\n",
      "==============================================================================\n",
      "Omnibus:                        1.705   Durbin-Watson:                   1.805\n",
      "Prob(Omnibus):                  0.426   Jarque-Bera (JB):                1.264\n",
      "Skew:                           0.263   Prob(JB):                        0.532\n",
      "Kurtosis:                       3.163   Cond. No.                         285.\n",
      "==============================================================================\n",
      "\n",
      "Notes:\n",
      "[1] Standard Errors assume that the covariance matrix of the errors is correctly specified.\n"
     ]
    }
   ],
   "source": [
    "# Predict Agreeableness from brain activation\n",
    "X = merged_df[['TPJ_L','AgeMidpoint','Gender_binary']]\n",
    "X = sm.add_constant(X)  # Adds intercept term\n",
    "y = merged_df['NEOFAC_O']\n",
    "\n",
    "model = sm.OLS(y, X).fit()\n",
    "print(model.summary())"
   ]
  },
  {
   "cell_type": "code",
   "execution_count": 57,
   "id": "a366d218",
   "metadata": {},
   "outputs": [
    {
     "name": "stdout",
     "output_type": "stream",
     "text": [
      "                             OLS Regression Results                            \n",
      "===============================================================================\n",
      "Dep. Variable:                NEOFAC_O   R-squared:                       0.095\n",
      "Model:                             OLS   Adj. R-squared:                  0.066\n",
      "Method:                  Least Squares   F-statistic:                     3.341\n",
      "Date:              mar., 22 juil. 2025   Prob (F-statistic):             0.0225\n",
      "Time:                         16:00:58   Log-Likelihood:                -314.81\n",
      "No. Observations:                  100   AIC:                             637.6\n",
      "Df Residuals:                       96   BIC:                             648.0\n",
      "Df Model:                            3                                         \n",
      "Covariance Type:             nonrobust                                         \n",
      "=================================================================================\n",
      "                    coef    std err          t      P>|t|      [0.025      0.975]\n",
      "---------------------------------------------------------------------------------\n",
      "const            36.2007      5.417      6.683      0.000      25.449      46.952\n",
      "PCC_R            -0.0984      0.044     -2.234      0.028      -0.186      -0.011\n",
      "AgeMidpoint      -0.2104      0.180     -1.168      0.246      -0.568       0.147\n",
      "Gender_binary    -2.1694      1.189     -1.824      0.071      -4.530       0.191\n",
      "==============================================================================\n",
      "Omnibus:                        3.590   Durbin-Watson:                   1.834\n",
      "Prob(Omnibus):                  0.166   Jarque-Bera (JB):                2.921\n",
      "Skew:                           0.346   Prob(JB):                        0.232\n",
      "Kurtosis:                       3.471   Cond. No.                         286.\n",
      "==============================================================================\n",
      "\n",
      "Notes:\n",
      "[1] Standard Errors assume that the covariance matrix of the errors is correctly specified.\n"
     ]
    }
   ],
   "source": [
    "# Predict Agreeableness from brain activation\n",
    "X = merged_df[['PCC_R','AgeMidpoint','Gender_binary']]\n",
    "X = sm.add_constant(X)  # Adds intercept term\n",
    "y = merged_df['NEOFAC_O']\n",
    "\n",
    "model = sm.OLS(y, X).fit()\n",
    "print(model.summary())"
   ]
  },
  {
   "cell_type": "code",
   "execution_count": 50,
   "id": "658f2e0e",
   "metadata": {},
   "outputs": [
    {
     "name": "stdout",
     "output_type": "stream",
     "text": [
      "                             OLS Regression Results                            \n",
      "===============================================================================\n",
      "Dep. Variable:                NEOFAC_A   R-squared:                       0.033\n",
      "Model:                             OLS   Adj. R-squared:                  0.003\n",
      "Method:                  Least Squares   F-statistic:                     1.107\n",
      "Date:              mar., 22 juil. 2025   Prob (F-statistic):              0.350\n",
      "Time:                         15:57:49   Log-Likelihood:                -321.18\n",
      "No. Observations:                  100   AIC:                             650.4\n",
      "Df Residuals:                       96   BIC:                             660.8\n",
      "Df Model:                            3                                         \n",
      "Covariance Type:             nonrobust                                         \n",
      "=================================================================================\n",
      "                    coef    std err          t      P>|t|      [0.025      0.975]\n",
      "---------------------------------------------------------------------------------\n",
      "const            26.0244      5.739      4.535      0.000      14.633      37.416\n",
      "PCC_L            -0.0147      0.041     -0.359      0.720      -0.096       0.067\n",
      "AgeMidpoint       0.2178      0.191      1.138      0.258      -0.162       0.598\n",
      "Gender_binary     1.7790      1.283      1.387      0.169      -0.767       4.325\n",
      "==============================================================================\n",
      "Omnibus:                        3.735   Durbin-Watson:                   1.915\n",
      "Prob(Omnibus):                  0.155   Jarque-Bera (JB):                3.069\n",
      "Skew:                          -0.389   Prob(JB):                        0.216\n",
      "Kurtosis:                       3.361   Cond. No.                         283.\n",
      "==============================================================================\n",
      "\n",
      "Notes:\n",
      "[1] Standard Errors assume that the covariance matrix of the errors is correctly specified.\n"
     ]
    }
   ],
   "source": [
    "# Predict Agreeableness from brain activation\n",
    "X = merged_df[['PCC_L','AgeMidpoint','Gender_binary']]\n",
    "X = sm.add_constant(X)  # Adds intercept term\n",
    "y = merged_df['NEOFAC_A']\n",
    "\n",
    "model = sm.OLS(y, X).fit()\n",
    "print(model.summary())"
   ]
  },
  {
   "cell_type": "code",
   "execution_count": 43,
   "id": "629d0b3e",
   "metadata": {},
   "outputs": [
    {
     "name": "stdout",
     "output_type": "stream",
     "text": [
      "MPFC_R      0.026524\n",
      "TPJ_R      -0.005819\n",
      "PCC_R      -0.011686\n",
      "MPFC_L     -0.034278\n",
      "TPJ_L      -0.002064\n",
      "PCC_L      -0.003659\n",
      "NEOFAC_A    1.000000\n",
      "Name: NEOFAC_A, dtype: float64\n"
     ]
    }
   ],
   "source": [
    "corr_results = merged_df[['MPFC_R', 'TPJ_R', 'PCC_R','MPFC_L', 'TPJ_L', 'PCC_L', 'NEOFAC_A']].corr()\n",
    "print(corr_results['NEOFAC_A'])\n"
   ]
  },
  {
   "cell_type": "code",
   "execution_count": 21,
   "id": "2bd0c7d3",
   "metadata": {},
   "outputs": [
    {
     "data": {
      "image/png": "[encoded data removed]",
      "text/plain": [
       "<Figure size 1800x500 with 6 Axes>"
      ]
     },
     "metadata": {},
     "output_type": "display_data"
    }
   ],
   "source": [
    "import seaborn as sns\n",
    "import matplotlib.pyplot as plt\n",
    "\n",
    "regions = ['MPFC_R', 'TPJ_R', 'PCC_R', 'MPFC_L', 'TPJ_L', 'PCC_L']\n",
    "\n",
    "# Set up subplots\n",
    "fig, axes = plt.subplots(1, 6, figsize=(18, 5))\n",
    "\n",
    "# Plot each region\n",
    "for i, region in enumerate(regions):\n",
    "    sns.regplot(data=merged_df, x='NEOFAC_A', y=region, ax=axes[i])\n",
    "    axes[i].set_title(f'{region} vs Agreeableness')\n",
    "    axes[i].set_xlabel('Agreeableness (NEOFAC_A)')\n",
    "    axes[i].set_ylabel(f'{region} Contrast')\n",
    "\n",
    "plt.tight_layout()\n",
    "plt.show()\n"
   ]
  }
 ],
 "metadata": {
  "kernelspec": {
   "display_name": "base",
   "language": "python",
   "name": "python3"
  },
  "language_info": {
   "codemirror_mode": {
    "name": "ipython",
    "version": 3
   },
   "file_extension": ".py",
   "mimetype": "text/x-python",
   "name": "python",
   "nbconvert_exporter": "python",
   "pygments_lexer": "ipython3",
   "version": "3.13.2"
  }
 },
 "nbformat": 4,
 "nbformat_minor": 5
}
